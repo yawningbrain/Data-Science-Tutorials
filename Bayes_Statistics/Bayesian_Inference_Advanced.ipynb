{
 "cells": [
  {
   "cell_type": "markdown",
   "metadata": {},
   "source": [
    "# Advanced Bayesian Inference: MCMC and Hierarchical Models\n",
    "\n",
    "This notebook explores advanced Bayesian inference techniques including:\n",
    "- Markov Chain Monte Carlo (MCMC) sampling\n",
    "- Metropolis-Hastings algorithm\n",
    "- Gibbs sampling\n",
    "- Hierarchical Bayesian models\n",
    "- Model comparison using Bayes factors\n",
    "\n",
    "## Learning Objectives\n",
    "1. Understand MCMC sampling methods\n",
    "2. Implement Metropolis-Hastings algorithm\n",
    "3. Apply Gibbs sampling to conjugate models\n",
    "4. Build hierarchical Bayesian models\n",
    "5. Compare models using Bayesian methods\n"
   ]
  },
  {
   "cell_type": "code",
   "execution_count": 1,
   "metadata": {},
   "outputs": [
    {
     "name": "stdout",
     "output_type": "stream",
     "text": [
      "🚀 Libraries imported successfully!\n",
      "Ready for some Bayesian magic! ✨\n"
     ]
    }
   ],
   "source": [
    "# Import required libraries\n",
    "import numpy as np\n",
    "import pandas as pd\n",
    "import matplotlib.pyplot as plt\n",
    "import seaborn as sns\n",
    "import plotly.graph_objects as go\n",
    "import plotly.express as px\n",
    "from plotly.subplots import make_subplots\n",
    "import scipy.stats as stats\n",
    "import ipywidgets as widgets\n",
    "from IPython.display import display\n",
    "import warnings\n",
    "warnings.filterwarnings('ignore')\n",
    "\n",
    "# Set style\n",
    "plt.style.use('seaborn-v0_8')\n",
    "sns.set_palette(\"husl\")\n",
    "\n",
    "print(\"🚀 Libraries imported successfully!\")\n",
    "print(\"Ready for some Bayesian magic! ✨\")\n"
   ]
  },
  {
   "cell_type": "markdown",
   "metadata": {},
   "source": [
    "## 🎯 Example 1: The Monty Hall Problem (Bayesian Style!)\n",
    "\n",
    "### The Problem\n",
    "The Monty Hall problem is a famous probability puzzle that stumps even professional mathematicians! Here's the setup:\n",
    "- You're on a game show with 3 doors\n",
    "- Behind one door is a car (prize), behind the other two are goats\n",
    "- You pick a door (say Door 1)\n",
    "- The host (who knows where the car is) opens another door (say Door 3) showing a goat\n",
    "- **Question**: Should you stick with your original choice or switch to the remaining door?\n",
    "\n",
    "### Why This Matters\n",
    "This problem demonstrates a fundamental concept in Bayesian thinking: **how new information should update our beliefs**. It's not just a math puzzle - it's about how we should make decisions when we receive new information.\n",
    "\n",
    "### Real-World Relevance\n",
    "- **Medical Diagnosis**: How test results should change our assessment of disease probability\n",
    "- **Investment Decisions**: How new market information should update our portfolio choices  \n",
    "- **Legal Evidence**: How new evidence should change our assessment of guilt/innocence\n",
    "- **Quality Control**: How new test results should update our assessment of product quality\n",
    "\n",
    "### The Bayesian Approach\n",
    "Instead of just calculating probabilities, we'll use Bayes' theorem to show how the host's action provides crucial information that dramatically shifts our probability estimates. This is the essence of Bayesian inference!\n"
   ]
  },
  {
   "cell_type": "code",
   "execution_count": 7,
   "metadata": {},
   "outputs": [
    {
     "data": {
      "image/jpeg": "[encoded data removed]",
      "text/html": [
       "\n",
       "        <iframe\n",
       "            width=\"800\"\n",
       "            height=\"450\"\n",
       "            src=\"https://www.youtube.com/embed/CYyUuIXzGgI\"\n",
       "            frameborder=\"0\"\n",
       "            allowfullscreen\n",
       "            \n",
       "        ></iframe>\n",
       "        "
      ],
      "text/plain": [
       "<IPython.lib.display.YouTubeVideo at 0x324278160>"
      ]
     },
     "execution_count": 7,
     "metadata": {},
     "output_type": "execute_result"
    }
   ],
   "source": [
    "# Let's watch the famous Monty Hall problem in action!\n",
    "from IPython.display import YouTubeVideo\n",
    "\n",
    "# Display the YouTube video from the movie \"21\"\n",
    "YouTubeVideo(\"CYyUuIXzGgI\", width=800, height=450)\n"
   ]
  },
  {
   "cell_type": "code",
   "execution_count": 2,
   "metadata": {},
   "outputs": [
    {
     "name": "stdout",
     "output_type": "stream",
     "text": [
      "🎲 MONTY HALL PROBLEM - BAYESIAN SOLUTION\n",
      "==================================================\n",
      "Initial probabilities:\n",
      "P(Car behind Door 1) = 0.333\n",
      "P(Car behind Door 2) = 0.333\n",
      "P(Car behind Door 3) = 0.333\n",
      "\n",
      "After Monty opens Door 3 (showing a goat):\n",
      "P(Car behind Door 1 | Monty opens Door 3) = 0.333\n",
      "P(Car behind Door 2 | Monty opens Door 3) = 0.667\n",
      "P(Car behind Door 3 | Monty opens Door 3) = 0.000\n",
      "\n",
      "🎯 CONCLUSION: You should SWITCH to Door 2!\n",
      "   Door 2 now has 66.7% chance of winning\n",
      "   Door 1 only has 33.3% chance of winning\n"
     ]
    }
   ],
   "source": [
    "def monty_hall_bayesian():\n",
    "    \"\"\"\n",
    "    Solve the Monty Hall problem using Bayesian inference\n",
    "    \"\"\"\n",
    "    print(\"🎲 MONTY HALL PROBLEM - BAYESIAN SOLUTION\")\n",
    "    print(\"=\" * 50)\n",
    "    \n",
    "    # Prior probabilities (before any door is opened)\n",
    "    # Initially, each door has equal probability of having the car\n",
    "    prior_car_door1 = 1/3\n",
    "    prior_car_door2 = 1/3  \n",
    "    prior_car_door3 = 1/3\n",
    "    \n",
    "    print(f\"Initial probabilities:\")\n",
    "    print(f\"P(Car behind Door 1) = {prior_car_door1:.3f}\")\n",
    "    print(f\"P(Car behind Door 2) = {prior_car_door2:.3f}\")\n",
    "    print(f\"P(Car behind Door 3) = {prior_car_door3:.3f}\")\n",
    "    print()\n",
    "    \n",
    "    # Let's say you pick Door 1, and Monty opens Door 3 (which has a goat)\n",
    "    # Now we need to update our beliefs using Bayes' theorem\n",
    "    \n",
    "    # Likelihood: P(Monty opens Door 3 | Car behind Door 1)\n",
    "    # If car is behind Door 1, Monty can open either Door 2 or 3 (equal probability)\n",
    "    likelihood_door1 = 0.5\n",
    "    \n",
    "    # Likelihood: P(Monty opens Door 3 | Car behind Door 2) \n",
    "    # If car is behind Door 2, Monty MUST open Door 3\n",
    "    likelihood_door2 = 1.0\n",
    "    \n",
    "    # Likelihood: P(Monty opens Door 3 | Car behind Door 3)\n",
    "    # If car is behind Door 3, Monty would NEVER open it\n",
    "    likelihood_door3 = 0.0\n",
    "    \n",
    "    # Evidence: P(Monty opens Door 3) = sum of all possibilities\n",
    "    evidence = (likelihood_door1 * prior_car_door1 + \n",
    "               likelihood_door2 * prior_car_door2 + \n",
    "               likelihood_door3 * prior_car_door3)\n",
    "    \n",
    "    # Posterior probabilities using Bayes' theorem\n",
    "    posterior_door1 = (likelihood_door1 * prior_car_door1) / evidence\n",
    "    posterior_door2 = (likelihood_door2 * prior_car_door2) / evidence\n",
    "    posterior_door3 = (likelihood_door3 * prior_car_door3) / evidence\n",
    "    \n",
    "    print(f\"After Monty opens Door 3 (showing a goat):\")\n",
    "    print(f\"P(Car behind Door 1 | Monty opens Door 3) = {posterior_door1:.3f}\")\n",
    "    print(f\"P(Car behind Door 2 | Monty opens Door 3) = {posterior_door2:.3f}\")\n",
    "    print(f\"P(Car behind Door 3 | Monty opens Door 3) = {posterior_door3:.3f}\")\n",
    "    print()\n",
    "    print(f\"🎯 CONCLUSION: You should SWITCH to Door 2!\")\n",
    "    print(f\"   Door 2 now has {posterior_door2:.1%} chance of winning\")\n",
    "    print(f\"   Door 1 only has {posterior_door1:.1%} chance of winning\")\n",
    "    \n",
    "    return {\n",
    "        'prior': [prior_car_door1, prior_car_door2, prior_car_door3],\n",
    "        'posterior': [posterior_door1, posterior_door2, posterior_door3]\n",
    "    }\n",
    "\n",
    "# Run the analysis\n",
    "monty_hall_results = monty_hall_bayesian()\n"
   ]
  },
  {
   "cell_type": "code",
   "execution_count": 3,
   "metadata": {},
   "outputs": [
    {
     "data": {
      "application/vnd.plotly.v1+json": {
       "config": {
        "plotlyServerURL": "https://plot.ly"
       },
       "data": [
        {
         "marker": {
          "color": "lightblue"
         },
         "name": "Before Monty Opens Door 3",
         "text": [
          "33.3%",
          "33.3%",
          "33.3%"
         ],
         "textposition": "auto",
         "type": "bar",
         "x": [
          "Door 1",
          "Door 2",
          "Door 3"
         ],
         "y": [
          0.3333333333333333,
          0.3333333333333333,
          0.3333333333333333
         ]
        },
        {
         "marker": {
          "color": "darkred"
         },
         "name": "After Monty Opens Door 3",
         "text": [
          "33.3%",
          "66.7%",
          "0.0%"
         ],
         "textposition": "auto",
         "type": "bar",
         "x": [
          "Door 1",
          "Door 2",
          "Door 3"
         ],
         "y": [
          0.3333333333333333,
          0.6666666666666666,
          0
         ]
        }
       ],
       "layout": {
        "barmode": "group",
        "height": 500,
        "template": {
         "data": {
          "bar": [
           {
            "error_x": {
             "color": "#2a3f5f"
            },
            "error_y": {
             "color": "#2a3f5f"
            },
            "marker": {
             "line": {
              "color": "#E5ECF6",
              "width": 0.5
             },
             "pattern": {
              "fillmode": "overlay",
              "size": 10,
              "solidity": 0.2
             }
            },
            "type": "bar"
           }
          ],
          "barpolar": [
           {
            "marker": {
             "line": {
              "color": "#E5ECF6",
              "width": 0.5
             },
             "pattern": {
              "fillmode": "overlay",
              "size": 10,
              "solidity": 0.2
             }
            },
            "type": "barpolar"
           }
          ],
          "carpet": [
           {
            "aaxis": {
             "endlinecolor": "#2a3f5f",
             "gridcolor": "white",
             "linecolor": "white",
             "minorgridcolor": "white",
             "startlinecolor": "#2a3f5f"
            },
            "baxis": {
             "endlinecolor": "#2a3f5f",
             "gridcolor": "white",
             "linecolor": "white",
             "minorgridcolor": "white",
             "startlinecolor": "#2a3f5f"
            },
            "type": "carpet"
           }
          ],
          "choropleth": [
           {
            "colorbar": {
             "outlinewidth": 0,
             "ticks": ""
            },
            "type": "choropleth"
           }
          ],
          "contour": [
           {
            "colorbar": {
             "outlinewidth": 0,
             "ticks": ""
            },
            "colorscale": [
             [
              0,
              "#0d0887"
             ],
             [
              0.1111111111111111,
              "#46039f"
             ],
             [
              0.2222222222222222,
              "#7201a8"
             ],
             [
              0.3333333333333333,
              "#9c179e"
             ],
             [
              0.4444444444444444,
              "#bd3786"
             ],
             [
              0.5555555555555556,
              "#d8576b"
             ],
             [
              0.6666666666666666,
              "#ed7953"
             ],
             [
              0.7777777777777778,
              "#fb9f3a"
             ],
             [
              0.8888888888888888,
              "#fdca26"
             ],
             [
              1,
              "#f0f921"
             ]
            ],
            "type": "contour"
           }
          ],
          "contourcarpet": [
           {
            "colorbar": {
             "outlinewidth": 0,
             "ticks": ""
            },
            "type": "contourcarpet"
           }
          ],
          "heatmap": [
           {
            "colorbar": {
             "outlinewidth": 0,
             "ticks": ""
            },
            "colorscale": [
             [
              0,
              "#0d0887"
             ],
             [
              0.1111111111111111,
              "#46039f"
             ],
             [
              0.2222222222222222,
              "#7201a8"
             ],
             [
              0.3333333333333333,
              "#9c179e"
             ],
             [
              0.4444444444444444,
              "#bd3786"
             ],
             [
              0.5555555555555556,
              "#d8576b"
             ],
             [
              0.6666666666666666,
              "#ed7953"
             ],
             [
              0.7777777777777778,
              "#fb9f3a"
             ],
             [
              0.8888888888888888,
              "#fdca26"
             ],
             [
              1,
              "#f0f921"
             ]
            ],
            "type": "heatmap"
           }
          ],
          "histogram": [
           {
            "marker": {
             "pattern": {
              "fillmode": "overlay",
              "size": 10,
              "solidity": 0.2
             }
            },
            "type": "histogram"
           }
          ],
          "histogram2d": [
           {
            "colorbar": {
             "outlinewidth": 0,
             "ticks": ""
            },
            "colorscale": [
             [
              0,
              "#0d0887"
             ],
             [
              0.1111111111111111,
              "#46039f"
             ],
             [
              0.2222222222222222,
              "#7201a8"
             ],
             [
              0.3333333333333333,
              "#9c179e"
             ],
             [
              0.4444444444444444,
              "#bd3786"
             ],
             [
              0.5555555555555556,
              "#d8576b"
             ],
             [
              0.6666666666666666,
              "#ed7953"
             ],
             [
              0.7777777777777778,
              "#fb9f3a"
             ],
             [
              0.8888888888888888,
              "#fdca26"
             ],
             [
              1,
              "#f0f921"
             ]
            ],
            "type": "histogram2d"
           }
          ],
          "histogram2dcontour": [
           {
            "colorbar": {
             "outlinewidth": 0,
             "ticks": ""
            },
            "colorscale": [
             [
              0,
              "#0d0887"
             ],
             [
              0.1111111111111111,
              "#46039f"
             ],
             [
              0.2222222222222222,
              "#7201a8"
             ],
             [
              0.3333333333333333,
              "#9c179e"
             ],
             [
              0.4444444444444444,
              "#bd3786"
             ],
             [
              0.5555555555555556,
              "#d8576b"
             ],
             [
              0.6666666666666666,
              "#ed7953"
             ],
             [
              0.7777777777777778,
              "#fb9f3a"
             ],
             [
              0.8888888888888888,
              "#fdca26"
             ],
             [
              1,
              "#f0f921"
             ]
            ],
            "type": "histogram2dcontour"
           }
          ],
          "mesh3d": [
           {
            "colorbar": {
             "outlinewidth": 0,
             "ticks": ""
            },
            "type": "mesh3d"
           }
          ],
          "parcoords": [
           {
            "line": {
             "colorbar": {
              "outlinewidth": 0,
              "ticks": ""
             }
            },
            "type": "parcoords"
           }
          ],
          "pie": [
           {
            "automargin": true,
            "type": "pie"
           }
          ],
          "scatter": [
           {
            "fillpattern": {
             "fillmode": "overlay",
             "size": 10,
             "solidity": 0.2
            },
            "type": "scatter"
           }
          ],
          "scatter3d": [
           {
            "line": {
             "colorbar": {
              "outlinewidth": 0,
              "ticks": ""
             }
            },
            "marker": {
             "colorbar": {
              "outlinewidth": 0,
              "ticks": ""
             }
            },
            "type": "scatter3d"
           }
          ],
          "scattercarpet": [
           {
            "marker": {
             "colorbar": {
              "outlinewidth": 0,
              "ticks": ""
             }
            },
            "type": "scattercarpet"
           }
          ],
          "scattergeo": [
           {
            "marker": {
             "colorbar": {
              "outlinewidth": 0,
              "ticks": ""
             }
            },
            "type": "scattergeo"
           }
          ],
          "scattergl": [
           {
            "marker": {
             "colorbar": {
              "outlinewidth": 0,
              "ticks": ""
             }
            },
            "type": "scattergl"
           }
          ],
          "scattermap": [
           {
            "marker": {
             "colorbar": {
              "outlinewidth": 0,
              "ticks": ""
             }
            },
            "type": "scattermap"
           }
          ],
          "scattermapbox": [
           {
            "marker": {
             "colorbar": {
              "outlinewidth": 0,
              "ticks": ""
             }
            },
            "type": "scattermapbox"
           }
          ],
          "scatterpolar": [
           {
            "marker": {
             "colorbar": {
              "outlinewidth": 0,
              "ticks": ""
             }
            },
            "type": "scatterpolar"
           }
          ],
          "scatterpolargl": [
           {
            "marker": {
             "colorbar": {
              "outlinewidth": 0,
              "ticks": ""
             }
            },
            "type": "scatterpolargl"
           }
          ],
          "scatterternary": [
           {
            "marker": {
             "colorbar": {
              "outlinewidth": 0,
              "ticks": ""
             }
            },
            "type": "scatterternary"
           }
          ],
          "surface": [
           {
            "colorbar": {
             "outlinewidth": 0,
             "ticks": ""
            },
            "colorscale": [
             [
              0,
              "#0d0887"
             ],
             [
              0.1111111111111111,
              "#46039f"
             ],
             [
              0.2222222222222222,
              "#7201a8"
             ],
             [
              0.3333333333333333,
              "#9c179e"
             ],
             [
              0.4444444444444444,
              "#bd3786"
             ],
             [
              0.5555555555555556,
              "#d8576b"
             ],
             [
              0.6666666666666666,
              "#ed7953"
             ],
             [
              0.7777777777777778,
              "#fb9f3a"
             ],
             [
              0.8888888888888888,
              "#fdca26"
             ],
             [
              1,
              "#f0f921"
             ]
            ],
            "type": "surface"
           }
          ],
          "table": [
           {
            "cells": {
             "fill": {
              "color": "#EBF0F8"
             },
             "line": {
              "color": "white"
             }
            },
            "header": {
             "fill": {
              "color": "#C8D4E3"
             },
             "line": {
              "color": "white"
             }
            },
            "type": "table"
           }
          ]
         },
         "layout": {
          "annotationdefaults": {
           "arrowcolor": "#2a3f5f",
           "arrowhead": 0,
           "arrowwidth": 1
          },
          "autotypenumbers": "strict",
          "coloraxis": {
           "colorbar": {
            "outlinewidth": 0,
            "ticks": ""
           }
          },
          "colorscale": {
           "diverging": [
            [
             0,
             "#8e0152"
            ],
            [
             0.1,
             "#c51b7d"
            ],
            [
             0.2,
             "#de77ae"
            ],
            [
             0.3,
             "#f1b6da"
            ],
            [
             0.4,
             "#fde0ef"
            ],
            [
             0.5,
             "#f7f7f7"
            ],
            [
             0.6,
             "#e6f5d0"
            ],
            [
             0.7,
             "#b8e186"
            ],
            [
             0.8,
             "#7fbc41"
            ],
            [
             0.9,
             "#4d9221"
            ],
            [
             1,
             "#276419"
            ]
           ],
           "sequential": [
            [
             0,
             "#0d0887"
            ],
            [
             0.1111111111111111,
             "#46039f"
            ],
            [
             0.2222222222222222,
             "#7201a8"
            ],
            [
             0.3333333333333333,
             "#9c179e"
            ],
            [
             0.4444444444444444,
             "#bd3786"
            ],
            [
             0.5555555555555556,
             "#d8576b"
            ],
            [
             0.6666666666666666,
             "#ed7953"
            ],
            [
             0.7777777777777778,
             "#fb9f3a"
            ],
            [
             0.8888888888888888,
             "#fdca26"
            ],
            [
             1,
             "#f0f921"
            ]
           ],
           "sequentialminus": [
            [
             0,
             "#0d0887"
            ],
            [
             0.1111111111111111,
             "#46039f"
            ],
            [
             0.2222222222222222,
             "#7201a8"
            ],
            [
             0.3333333333333333,
             "#9c179e"
            ],
            [
             0.4444444444444444,
             "#bd3786"
            ],
            [
             0.5555555555555556,
             "#d8576b"
            ],
            [
             0.6666666666666666,
             "#ed7953"
            ],
            [
             0.7777777777777778,
             "#fb9f3a"
            ],
            [
             0.8888888888888888,
             "#fdca26"
            ],
            [
             1,
             "#f0f921"
            ]
           ]
          },
          "colorway": [
           "#636efa",
           "#EF553B",
           "#00cc96",
           "#ab63fa",
           "#FFA15A",
           "#19d3f3",
           "#FF6692",
           "#B6E880",
           "#FF97FF",
           "#FECB52"
          ],
          "font": {
           "color": "#2a3f5f"
          },
          "geo": {
           "bgcolor": "white",
           "lakecolor": "white",
           "landcolor": "#E5ECF6",
           "showlakes": true,
           "showland": true,
           "subunitcolor": "white"
          },
          "hoverlabel": {
           "align": "left"
          },
          "hovermode": "closest",
          "mapbox": {
           "style": "light"
          },
          "paper_bgcolor": "white",
          "plot_bgcolor": "#E5ECF6",
          "polar": {
           "angularaxis": {
            "gridcolor": "white",
            "linecolor": "white",
            "ticks": ""
           },
           "bgcolor": "#E5ECF6",
           "radialaxis": {
            "gridcolor": "white",
            "linecolor": "white",
            "ticks": ""
           }
          },
          "scene": {
           "xaxis": {
            "backgroundcolor": "#E5ECF6",
            "gridcolor": "white",
            "gridwidth": 2,
            "linecolor": "white",
            "showbackground": true,
            "ticks": "",
            "zerolinecolor": "white"
           },
           "yaxis": {
            "backgroundcolor": "#E5ECF6",
            "gridcolor": "white",
            "gridwidth": 2,
            "linecolor": "white",
            "showbackground": true,
            "ticks": "",
            "zerolinecolor": "white"
           },
           "zaxis": {
            "backgroundcolor": "#E5ECF6",
            "gridcolor": "white",
            "gridwidth": 2,
            "linecolor": "white",
            "showbackground": true,
            "ticks": "",
            "zerolinecolor": "white"
           }
          },
          "shapedefaults": {
           "line": {
            "color": "#2a3f5f"
           }
          },
          "ternary": {
           "aaxis": {
            "gridcolor": "white",
            "linecolor": "white",
            "ticks": ""
           },
           "baxis": {
            "gridcolor": "white",
            "linecolor": "white",
            "ticks": ""
           },
           "bgcolor": "#E5ECF6",
           "caxis": {
            "gridcolor": "white",
            "linecolor": "white",
            "ticks": ""
           }
          },
          "title": {
           "x": 0.05
          },
          "xaxis": {
           "automargin": true,
           "gridcolor": "white",
           "linecolor": "white",
           "ticks": "",
           "title": {
            "standoff": 15
           },
           "zerolinecolor": "white",
           "zerolinewidth": 2
          },
          "yaxis": {
           "automargin": true,
           "gridcolor": "white",
           "linecolor": "white",
           "ticks": "",
           "title": {
            "standoff": 15
           },
           "zerolinecolor": "white",
           "zerolinewidth": 2
          }
         }
        },
        "title": {
         "text": "🎲 Monty Hall Problem: Prior vs Posterior Probabilities"
        },
        "xaxis": {
         "title": {
          "text": "Doors"
         }
        },
        "yaxis": {
         "title": {
          "text": "Probability"
         }
        }
       }
      },
      "image/png": "[encoded data removed]"
     },
     "metadata": {},
     "output_type": "display_data"
    },
    {
     "name": "stdout",
     "output_type": "stream",
     "text": [
      "💡 Key Insight: Information changes everything!\n",
      "   The act of Monty opening a door provides crucial information\n",
      "   that dramatically shifts our probability estimates.\n"
     ]
    }
   ],
   "source": [
    "# Visualize the Monty Hall problem\n",
    "fig = go.Figure()\n",
    "\n",
    "doors = ['Door 1', 'Door 2', 'Door 3']\n",
    "prior_probs = monty_hall_results['prior']\n",
    "posterior_probs = monty_hall_results['posterior']\n",
    "\n",
    "# Add prior probabilities\n",
    "fig.add_trace(go.Bar(\n",
    "    name='Before Monty Opens Door 3',\n",
    "    x=doors,\n",
    "    y=prior_probs,\n",
    "    marker_color='lightblue',\n",
    "    text=[f'{p:.1%}' for p in prior_probs],\n",
    "    textposition='auto'\n",
    "))\n",
    "\n",
    "# Add posterior probabilities\n",
    "fig.add_trace(go.Bar(\n",
    "    name='After Monty Opens Door 3',\n",
    "    x=doors,\n",
    "    y=posterior_probs,\n",
    "    marker_color='darkred',\n",
    "    text=[f'{p:.1%}' for p in posterior_probs],\n",
    "    textposition='auto'\n",
    "))\n",
    "\n",
    "fig.update_layout(\n",
    "    title='🎲 Monty Hall Problem: Prior vs Posterior Probabilities',\n",
    "    xaxis_title='Doors',\n",
    "    yaxis_title='Probability',\n",
    "    barmode='group',\n",
    "    height=500\n",
    ")\n",
    "\n",
    "fig.show()\n",
    "\n",
    "print(\"💡 Key Insight: Information changes everything!\")\n",
    "print(\"   The act of Monty opening a door provides crucial information\")\n",
    "print(\"   that dramatically shifts our probability estimates.\")\n"
   ]
  },
  {
   "cell_type": "markdown",
   "metadata": {},
   "source": [
    "## 🎯 Example 2: Simple MCMC - The \"Drunkard's Walk\" to Find the Peak\n",
    "\n",
    "### The Problem\n",
    "How do we find the maximum (or sample from) complex probability distributions when we can't calculate them analytically? This is a fundamental challenge in Bayesian statistics when we have:\n",
    "- High-dimensional parameter spaces\n",
    "- Complex posterior distributions\n",
    "- No closed-form solutions\n",
    "\n",
    "### Why MCMC Matters\n",
    "**Markov Chain Monte Carlo (MCMC)** is one of the most important algorithms in modern statistics. It allows us to:\n",
    "- Sample from any probability distribution (even if we can't integrate it)\n",
    "- Find peaks in complex landscapes\n",
    "- Quantify uncertainty in high dimensions\n",
    "- Make Bayesian inference practical for real problems\n",
    "\n",
    "### The \"Drunkard's Walk\" Analogy\n",
    "Imagine a drunk person trying to find the highest point on a hill:\n",
    "- They take random steps (proposals)\n",
    "- If they step uphill, they always take it (accept)\n",
    "- If they step downhill, they sometimes take it (probabilistic acceptance)\n",
    "- Over time, they spend more time near the peaks!\n",
    "\n",
    "This is exactly how Metropolis-Hastings works - it's a random walk that naturally explores high-probability regions.\n",
    "\n",
    "### Real-World Applications\n",
    "- **Machine Learning**: Training neural networks, hyperparameter optimization\n",
    "- **Finance**: Risk modeling, portfolio optimization\n",
    "- **Biology**: Protein folding, evolutionary modeling\n",
    "- **Physics**: Quantum mechanics, statistical mechanics\n",
    "- **Marketing**: Customer segmentation, recommendation systems\n",
    "\n",
    "### Why This Example is Perfect\n",
    "We'll use a simple 1D function with multiple peaks to show how MCMC can:\n",
    "- Explore the entire landscape\n",
    "- Find all the peaks\n",
    "- Spend time proportional to the peak height\n",
    "- Converge to the true distribution\n"
   ]
  },
  {
   "cell_type": "code",
   "execution_count": 4,
   "metadata": {},
   "outputs": [
    {
     "name": "stdout",
     "output_type": "stream",
     "text": [
      "🍺 Starting Drunkard's Walk MCMC...\n",
      "   Target: Find the peak of our function\n",
      "   Steps: 2000, Step size: 0.8\n",
      "\n",
      "Step 1: Current=0.397, Value=0.465, Acceptance rate: 100.00%\n",
      "Step 2: Current=0.287, Value=0.449, Acceptance rate: 100.00%\n",
      "Step 3: Current=0.099, Value=0.438, Acceptance rate: 100.00%\n",
      "Step 4: Current=-0.088, Value=0.443, Acceptance rate: 100.00%\n",
      "Step 5: Current=1.175, Value=0.759, Acceptance rate: 100.00%\n",
      "\n",
      "🎯 Final Results:\n",
      "   Acceptance rate: 82.8%\n",
      "   Final position: 2.339\n",
      "   Final value: 0.946\n"
     ]
    }
   ],
   "source": [
    "def drunkards_walk_mcmc(target_function, n_steps=1000, step_size=0.5, start_point=0):\n",
    "    \"\"\"\n",
    "    Simple MCMC using Metropolis-Hastings algorithm\n",
    "    Like a drunk person trying to find the highest point on a hill!\n",
    "    \"\"\"\n",
    "    print(f\"🍺 Starting Drunkard's Walk MCMC...\")\n",
    "    print(f\"   Target: Find the peak of our function\")\n",
    "    print(f\"   Steps: {n_steps}, Step size: {step_size}\")\n",
    "    print()\n",
    "    \n",
    "    # Initialize\n",
    "    current_position = start_point\n",
    "    samples = [current_position]\n",
    "    accepted = 0\n",
    "    \n",
    "    for step in range(n_steps):\n",
    "        # Propose a new position (random walk)\n",
    "        proposed_position = current_position + np.random.normal(0, step_size)\n",
    "        \n",
    "        # Calculate acceptance probability\n",
    "        # Higher function value = more likely to accept\n",
    "        current_value = target_function(current_position)\n",
    "        proposed_value = target_function(proposed_position)\n",
    "        \n",
    "        # Avoid division by zero\n",
    "        if current_value > 0:\n",
    "            alpha = min(1, proposed_value / current_value)\n",
    "        else:\n",
    "            alpha = 1 if proposed_value > current_value else 0\n",
    "        \n",
    "        # Accept or reject\n",
    "        if np.random.random() < alpha:\n",
    "            current_position = proposed_position\n",
    "            accepted += 1\n",
    "        \n",
    "        samples.append(current_position)\n",
    "        \n",
    "        # Print progress for first few steps\n",
    "        if step < 5:\n",
    "            print(f\"Step {step+1}: Current={current_position:.3f}, \"\n",
    "                  f\"Value={target_function(current_position):.3f}, \"\n",
    "                  f\"Acceptance rate: {accepted/(step+1):.2%}\")\n",
    "    \n",
    "    acceptance_rate = accepted / n_steps\n",
    "    print(f\"\\n🎯 Final Results:\")\n",
    "    print(f\"   Acceptance rate: {acceptance_rate:.1%}\")\n",
    "    print(f\"   Final position: {current_position:.3f}\")\n",
    "    print(f\"   Final value: {target_function(current_position):.3f}\")\n",
    "    \n",
    "    return np.array(samples), acceptance_rate\n",
    "\n",
    "# Define a target function (like a hill to climb)\n",
    "def target_function(x):\n",
    "    \"\"\"A function with multiple peaks - like hills to explore\"\"\"\n",
    "    return np.exp(-0.5 * (x - 2)**2) + 0.5 * np.exp(-0.5 * (x + 1)**2)\n",
    "\n",
    "# Run the drunkard's walk\n",
    "np.random.seed(42)  # For reproducible results\n",
    "samples, acceptance_rate = drunkards_walk_mcmc(target_function, n_steps=2000, step_size=0.8)\n"
   ]
  },
  {
   "cell_type": "code",
   "execution_count": 5,
   "metadata": {},
   "outputs": [
    {
     "data": {
      "application/vnd.plotly.v1+json": {
       "config": {
        "plotlyServerURL": "https://plot.ly"
       },
       "data": [
        {
         "line": {
          "color": "blue",
          "width": 3
         },
         "mode": "lines",
         "name": "Target Function",
         "type": "scatter",
         "x": {
          "bdata": "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",
          "dtype": "f8"
         },
         "xaxis": "x",
         "y": {
          "bdata": "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",
          "dtype": "f8"
         },
         "yaxis": "y"
        },
        {
         "line": {
          "color": "red",
          "width": 1
         },
         "mode": "lines",
         "name": "MCMC Path",
         "type": "scatter",
         "x": [
          0,
          1,
          2,
          3,
          4,
          5,
          6,
          7,
          8,
          9,
          10,
          11,
          12,
          13,
          14,
          15,
          16,
          17,
          18,
          19,
          20,
          21,
          22,
          23,
          24,
          25,
          26,
          27,
          28,
          29,
          30,
          31,
          32,
          33,
          34,
          35,
          36,
          37,
          38,
          39,
          40,
          41,
          42,
          43,
          44,
          45,
          46,
          47,
          48,
          49,
          50,
          51,
          52,
          53,
          54,
          55,
          56,
          57,
          58,
          59,
          60,
          61,
          62,
          63,
          64,
          65,
          66,
          67,
          68,
          69,
          70,
          71,
          72,
          73,
          74,
          75,
          76,
          77,
          78,
          79,
          80,
          81,
          82,
          83,
          84,
          85,
          86,
          87,
          88,
          89,
          90,
          91,
          92,
          93,
          94,
          95,
          96,
          97,
          98,
          99,
          100,
          101,
          102,
          103,
          104,
          105,
          106,
          107,
          108,
          109,
          110,
          111,
          112,
          113,
          114,
          115,
          116,
          117,
          118,
          119,
          120,
          121,
          122,
          123,
          124,
          125,
          126,
          127,
          128,
          129,
          130,
          131,
          132,
          133,
          134,
          135,
          136,
          137,
          138,
          139,
          140,
          141,
          142,
          143,
          144,
          145,
          146,
          147,
          148,
          149,
          150,
          151,
          152,
          153,
          154,
          155,
          156,
          157,
          158,
          159,
          160,
          161,
          162,
          163,
          164,
          165,
          166,
          167,
          168,
          169,
          170,
          171,
          172,
          173,
          174,
          175,
          176,
          177,
          178,
          179,
          180,
          181,
          182,
          183,
          184,
          185,
          186,
          187,
          188,
          189,
          190,
          191,
          192,
          193,
          194,
          195,
          196,
          197,
          198,
          199,
          200,
          201,
          202,
          203,
          204,
          205,
          206,
          207,
          208,
          209,
          210,
          211,
          212,
          213,
          214,
          215,
          216,
          217,
          218,
          219,
          220,
          221,
          222,
          223,
          224,
          225,
          226,
          227,
          228,
          229,
          230,
          231,
          232,
          233,
          234,
          235,
          236,
          237,
          238,
          239,
          240,
          241,
          242,
          243,
          244,
          245,
          246,
          247,
          248,
          249,
          250,
          251,
          252,
          253,
          254,
          255,
          256,
          257,
          258,
          259,
          260,
          261,
          262,
          263,
          264,
          265,
          266,
          267,
          268,
          269,
          270,
          271,
          272,
          273,
          274,
          275,
          276,
          277,
          278,
          279,
          280,
          281,
          282,
          283,
          284,
          285,
          286,
          287,
          288,
          289,
          290,
          291,
          292,
          293,
          294,
          295,
          296,
          297,
          298,
          299,
          300,
          301,
          302,
          303,
          304,
          305,
          306,
          307,
          308,
          309,
          310,
          311,
          312,
          313,
          314,
          315,
          316,
          317,
          318,
          319,
          320,
          321,
          322,
          323,
          324,
          325,
          326,
          327,
          328,
          329,
          330,
          331,
          332,
          333,
          334,
          335,
          336,
          337,
          338,
          339,
          340,
          341,
          342,
          343,
          344,
          345,
          346,
          347,
          348,
          349,
          350,
          351,
          352,
          353,
          354,
          355,
          356,
          357,
          358,
          359,
          360,
          361,
          362,
          363,
          364,
          365,
          366,
          367,
          368,
          369,
          370,
          371,
          372,
          373,
          374,
          375,
          376,
          377,
          378,
          379,
          380,
          381,
          382,
          383,
          384,
          385,
          386,
          387,
          388,
          389,
          390,
          391,
          392,
          393,
          394,
          395,
          396,
          397,
          398,
          399,
          400,
          401,
          402,
          403,
          404,
          405,
          406,
          407,
          408,
          409,
          410,
          411,
          412,
          413,
          414,
          415,
          416,
          417,
          418,
          419,
          420,
          421,
          422,
          423,
          424,
          425,
          426,
          427,
          428,
          429,
          430,
          431,
          432,
          433,
          434,
          435,
          436,
          437,
          438,
          439,
          440,
          441,
          442,
          443,
          444,
          445,
          446,
          447,
          448,
          449,
          450,
          451,
          452,
          453,
          454,
          455,
          456,
          457,
          458,
          459,
          460,
          461,
          462,
          463,
          464,
          465,
          466,
          467,
          468,
          469,
          470,
          471,
          472,
          473,
          474,
          475,
          476,
          477,
          478,
          479,
          480,
          481,
          482,
          483,
          484,
          485,
          486,
          487,
          488,
          489,
          490,
          491,
          492,
          493,
          494,
          495,
          496,
          497,
          498,
          499,
          500,
          501,
          502,
          503,
          504,
          505,
          506,
          507,
          508,
          509,
          510,
          511,
          512,
          513,
          514,
          515,
          516,
          517,
          518,
          519,
          520,
          521,
          522,
          523,
          524,
          525,
          526,
          527,
          528,
          529,
          530,
          531,
          532,
          533,
          534,
          535,
          536,
          537,
          538,
          539,
          540,
          541,
          542,
          543,
          544,
          545,
          546,
          547,
          548,
          549,
          550,
          551,
          552,
          553,
          554,
          555,
          556,
          557,
          558,
          559,
          560,
          561,
          562,
          563,
          564,
          565,
          566,
          567,
          568,
          569,
          570,
          571,
          572,
          573,
          574,
          575,
          576,
          577,
          578,
          579,
          580,
          581,
          582,
          583,
          584,
          585,
          586,
          587,
          588,
          589,
          590,
          591,
          592,
          593,
          594,
          595,
          596,
          597,
          598,
          599,
          600,
          601,
          602,
          603,
          604,
          605,
          606,
          607,
          608,
          609,
          610,
          611,
          612,
          613,
          614,
          615,
          616,
          617,
          618,
          619,
          620,
          621,
          622,
          623,
          624,
          625,
          626,
          627,
          628,
          629,
          630,
          631,
          632,
          633,
          634,
          635,
          636,
          637,
          638,
          639,
          640,
          641,
          642,
          643,
          644,
          645,
          646,
          647,
          648,
          649,
          650,
          651,
          652,
          653,
          654,
          655,
          656,
          657,
          658,
          659,
          660,
          661,
          662,
          663,
          664,
          665,
          666,
          667,
          668,
          669,
          670,
          671,
          672,
          673,
          674,
          675,
          676,
          677,
          678,
          679,
          680,
          681,
          682,
          683,
          684,
          685,
          686,
          687,
          688,
          689,
          690,
          691,
          692,
          693,
          694,
          695,
          696,
          697,
          698,
          699,
          700,
          701,
          702,
          703,
          704,
          705,
          706,
          707,
          708,
          709,
          710,
          711,
          712,
          713,
          714,
          715,
          716,
          717,
          718,
          719,
          720,
          721,
          722,
          723,
          724,
          725,
          726,
          727,
          728,
          729,
          730,
          731,
          732,
          733,
          734,
          735,
          736,
          737,
          738,
          739,
          740,
          741,
          742,
          743,
          744,
          745,
          746,
          747,
          748,
          749,
          750,
          751,
          752,
          753,
          754,
          755,
          756,
          757,
          758,
          759,
          760,
          761,
          762,
          763,
          764,
          765,
          766,
          767,
          768,
          769,
          770,
          771,
          772,
          773,
          774,
          775,
          776,
          777,
          778,
          779,
          780,
          781,
          782,
          783,
          784,
          785,
          786,
          787,
          788,
          789,
          790,
          791,
          792,
          793,
          794,
          795,
          796,
          797,
          798,
          799,
          800,
          801,
          802,
          803,
          804,
          805,
          806,
          807,
          808,
          809,
          810,
          811,
          812,
          813,
          814,
          815,
          816,
          817,
          818,
          819,
          820,
          821,
          822,
          823,
          824,
          825,
          826,
          827,
          828,
          829,
          830,
          831,
          832,
          833,
          834,
          835,
          836,
          837,
          838,
          839,
          840,
          841,
          842,
          843,
          844,
          845,
          846,
          847,
          848,
          849,
          850,
          851,
          852,
          853,
          854,
          855,
          856,
          857,
          858,
          859,
          860,
          861,
          862,
          863,
          864,
          865,
          866,
          867,
          868,
          869,
          870,
          871,
          872,
          873,
          874,
          875,
          876,
          877,
          878,
          879,
          880,
          881,
          882,
          883,
          884,
          885,
          886,
          887,
          888,
          889,
          890,
          891,
          892,
          893,
          894,
          895,
          896,
          897,
          898,
          899,
          900,
          901,
          902,
          903,
          904,
          905,
          906,
          907,
          908,
          909,
          910,
          911,
          912,
          913,
          914,
          915,
          916,
          917,
          918,
          919,
          920,
          921,
          922,
          923,
          924,
          925,
          926,
          927,
          928,
          929,
          930,
          931,
          932,
          933,
          934,
          935,
          936,
          937,
          938,
          939,
          940,
          941,
          942,
          943,
          944,
          945,
          946,
          947,
          948,
          949,
          950,
          951,
          952,
          953,
          954,
          955,
          956,
          957,
          958,
          959,
          960,
          961,
          962,
          963,
          964,
          965,
          966,
          967,
          968,
          969,
          970,
          971,
          972,
          973,
          974,
          975,
          976,
          977,
          978,
          979,
          980,
          981,
          982,
          983,
          984,
          985,
          986,
          987,
          988,
          989,
          990,
          991,
          992,
          993,
          994,
          995,
          996,
          997,
          998,
          999,
          1000,
          1001,
          1002,
          1003,
          1004,
          1005,
          1006,
          1007,
          1008,
          1009,
          1010,
          1011,
          1012,
          1013,
          1014,
          1015,
          1016,
          1017,
          1018,
          1019,
          1020,
          1021,
          1022,
          1023,
          1024,
          1025,
          1026,
          1027,
          1028,
          1029,
          1030,
          1031,
          1032,
          1033,
          1034,
          1035,
          1036,
          1037,
          1038,
          1039,
          1040,
          1041,
          1042,
          1043,
          1044,
          1045,
          1046,
          1047,
          1048,
          1049,
          1050,
          1051,
          1052,
          1053,
          1054,
          1055,
          1056,
          1057,
          1058,
          1059,
          1060,
          1061,
          1062,
          1063,
          1064,
          1065,
          1066,
          1067,
          1068,
          1069,
          1070,
          1071,
          1072,
          1073,
          1074,
          1075,
          1076,
          1077,
          1078,
          1079,
          1080,
          1081,
          1082,
          1083,
          1084,
          1085,
          1086,
          1087,
          1088,
          1089,
          1090,
          1091,
          1092,
          1093,
          1094,
          1095,
          1096,
          1097,
          1098,
          1099,
          1100,
          1101,
          1102,
          1103,
          1104,
          1105,
          1106,
          1107,
          1108,
          1109,
          1110,
          1111,
          1112,
          1113,
          1114,
          1115,
          1116,
          1117,
          1118,
          1119,
          1120,
          1121,
          1122,
          1123,
          1124,
          1125,
          1126,
          1127,
          1128,
          1129,
          1130,
          1131,
          1132,
          1133,
          1134,
          1135,
          1136,
          1137,
          1138,
          1139,
          1140,
          1141,
          1142,
          1143,
          1144,
          1145,
          1146,
          1147,
          1148,
          1149,
          1150,
          1151,
          1152,
          1153,
          1154,
          1155,
          1156,
          1157,
          1158,
          1159,
          1160,
          1161,
          1162,
          1163,
          1164,
          1165,
          1166,
          1167,
          1168,
          1169,
          1170,
          1171,
          1172,
          1173,
          1174,
          1175,
          1176,
          1177,
          1178,
          1179,
          1180,
          1181,
          1182,
          1183,
          1184,
          1185,
          1186,
          1187,
          1188,
          1189,
          1190,
          1191,
          1192,
          1193,
          1194,
          1195,
          1196,
          1197,
          1198,
          1199,
          1200,
          1201,
          1202,
          1203,
          1204,
          1205,
          1206,
          1207,
          1208,
          1209,
          1210,
          1211,
          1212,
          1213,
          1214,
          1215,
          1216,
          1217,
          1218,
          1219,
          1220,
          1221,
          1222,
          1223,
          1224,
          1225,
          1226,
          1227,
          1228,
          1229,
          1230,
          1231,
          1232,
          1233,
          1234,
          1235,
          1236,
          1237,
          1238,
          1239,
          1240,
          1241,
          1242,
          1243,
          1244,
          1245,
          1246,
          1247,
          1248,
          1249,
          1250,
          1251,
          1252,
          1253,
          1254,
          1255,
          1256,
          1257,
          1258,
          1259,
          1260,
          1261,
          1262,
          1263,
          1264,
          1265,
          1266,
          1267,
          1268,
          1269,
          1270,
          1271,
          1272,
          1273,
          1274,
          1275,
          1276,
          1277,
          1278,
          1279,
          1280,
          1281,
          1282,
          1283,
          1284,
          1285,
          1286,
          1287,
          1288,
          1289,
          1290,
          1291,
          1292,
          1293,
          1294,
          1295,
          1296,
          1297,
          1298,
          1299,
          1300,
          1301,
          1302,
          1303,
          1304,
          1305,
          1306,
          1307,
          1308,
          1309,
          1310,
          1311,
          1312,
          1313,
          1314,
          1315,
          1316,
          1317,
          1318,
          1319,
          1320,
          1321,
          1322,
          1323,
          1324,
          1325,
          1326,
          1327,
          1328,
          1329,
          1330,
          1331,
          1332,
          1333,
          1334,
          1335,
          1336,
          1337,
          1338,
          1339,
          1340,
          1341,
          1342,
          1343,
          1344,
          1345,
          1346,
          1347,
          1348,
          1349,
          1350,
          1351,
          1352,
          1353,
          1354,
          1355,
          1356,
          1357,
          1358,
          1359,
          1360,
          1361,
          1362,
          1363,
          1364,
          1365,
          1366,
          1367,
          1368,
          1369,
          1370,
          1371,
          1372,
          1373,
          1374,
          1375,
          1376,
          1377,
          1378,
          1379,
          1380,
          1381,
          1382,
          1383,
          1384,
          1385,
          1386,
          1387,
          1388,
          1389,
          1390,
          1391,
          1392,
          1393,
          1394,
          1395,
          1396,
          1397,
          1398,
          1399,
          1400,
          1401,
          1402,
          1403,
          1404,
          1405,
          1406,
          1407,
          1408,
          1409,
          1410,
          1411,
          1412,
          1413,
          1414,
          1415,
          1416,
          1417,
          1418,
          1419,
          1420,
          1421,
          1422,
          1423,
          1424,
          1425,
          1426,
          1427,
          1428,
          1429,
          1430,
          1431,
          1432,
          1433,
          1434,
          1435,
          1436,
          1437,
          1438,
          1439,
          1440,
          1441,
          1442,
          1443,
          1444,
          1445,
          1446,
          1447,
          1448,
          1449,
          1450,
          1451,
          1452,
          1453,
          1454,
          1455,
          1456,
          1457,
          1458,
          1459,
          1460,
          1461,
          1462,
          1463,
          1464,
          1465,
          1466,
          1467,
          1468,
          1469,
          1470,
          1471,
          1472,
          1473,
          1474,
          1475,
          1476,
          1477,
          1478,
          1479,
          1480,
          1481,
          1482,
          1483,
          1484,
          1485,
          1486,
          1487,
          1488,
          1489,
          1490,
          1491,
          1492,
          1493,
          1494,
          1495,
          1496,
          1497,
          1498,
          1499,
          1500,
          1501,
          1502,
          1503,
          1504,
          1505,
          1506,
          1507,
          1508,
          1509,
          1510,
          1511,
          1512,
          1513,
          1514,
          1515,
          1516,
          1517,
          1518,
          1519,
          1520,
          1521,
          1522,
          1523,
          1524,
          1525,
          1526,
          1527,
          1528,
          1529,
          1530,
          1531,
          1532,
          1533,
          1534,
          1535,
          1536,
          1537,
          1538,
          1539,
          1540,
          1541,
          1542,
          1543,
          1544,
          1545,
          1546,
          1547,
          1548,
          1549,
          1550,
          1551,
          1552,
          1553,
          1554,
          1555,
          1556,
          1557,
          1558,
          1559,
          1560,
          1561,
          1562,
          1563,
          1564,
          1565,
          1566,
          1567,
          1568,
          1569,
          1570,
          1571,
          1572,
          1573,
          1574,
          1575,
          1576,
          1577,
          1578,
          1579,
          1580,
          1581,
          1582,
          1583,
          1584,
          1585,
          1586,
          1587,
          1588,
          1589,
          1590,
          1591,
          1592,
          1593,
          1594,
          1595,
          1596,
          1597,
          1598,
          1599,
          1600,
          1601,
          1602,
          1603,
          1604,
          1605,
          1606,
          1607,
          1608,
          1609,
          1610,
          1611,
          1612,
          1613,
          1614,
          1615,
          1616,
          1617,
          1618,
          1619,
          1620,
          1621,
          1622,
          1623,
          1624,
          1625,
          1626,
          1627,
          1628,
          1629,
          1630,
          1631,
          1632,
          1633,
          1634,
          1635,
          1636,
          1637,
          1638,
          1639,
          1640,
          1641,
          1642,
          1643,
          1644,
          1645,
          1646,
          1647,
          1648,
          1649,
          1650,
          1651,
          1652,
          1653,
          1654,
          1655,
          1656,
          1657,
          1658,
          1659,
          1660,
          1661,
          1662,
          1663,
          1664,
          1665,
          1666,
          1667,
          1668,
          1669,
          1670,
          1671,
          1672,
          1673,
          1674,
          1675,
          1676,
          1677,
          1678,
          1679,
          1680,
          1681,
          1682,
          1683,
          1684,
          1685,
          1686,
          1687,
          1688,
          1689,
          1690,
          1691,
          1692,
          1693,
          1694,
          1695,
          1696,
          1697,
          1698,
          1699,
          1700,
          1701,
          1702,
          1703,
          1704,
          1705,
          1706,
          1707,
          1708,
          1709,
          1710,
          1711,
          1712,
          1713,
          1714,
          1715,
          1716,
          1717,
          1718,
          1719,
          1720,
          1721,
          1722,
          1723,
          1724,
          1725,
          1726,
          1727,
          1728,
          1729,
          1730,
          1731,
          1732,
          1733,
          1734,
          1735,
          1736,
          1737,
          1738,
          1739,
          1740,
          1741,
          1742,
          1743,
          1744,
          1745,
          1746,
          1747,
          1748,
          1749,
          1750,
          1751,
          1752,
          1753,
          1754,
          1755,
          1756,
          1757,
          1758,
          1759,
          1760,
          1761,
          1762,
          1763,
          1764,
          1765,
          1766,
          1767,
          1768,
          1769,
          1770,
          1771,
          1772,
          1773,
          1774,
          1775,
          1776,
          1777,
          1778,
          1779,
          1780,
          1781,
          1782,
          1783,
          1784,
          1785,
          1786,
          1787,
          1788,
          1789,
          1790,
          1791,
          1792,
          1793,
          1794,
          1795,
          1796,
          1797,
          1798,
          1799,
          1800,
          1801,
          1802,
          1803,
          1804,
          1805,
          1806,
          1807,
          1808,
          1809,
          1810,
          1811,
          1812,
          1813,
          1814,
          1815,
          1816,
          1817,
          1818,
          1819,
          1820,
          1821,
          1822,
          1823,
          1824,
          1825,
          1826,
          1827,
          1828,
          1829,
          1830,
          1831,
          1832,
          1833,
          1834,
          1835,
          1836,
          1837,
          1838,
          1839,
          1840,
          1841,
          1842,
          1843,
          1844,
          1845,
          1846,
          1847,
          1848,
          1849,
          1850,
          1851,
          1852,
          1853,
          1854,
          1855,
          1856,
          1857,
          1858,
          1859,
          1860,
          1861,
          1862,
          1863,
          1864,
          1865,
          1866,
          1867,
          1868,
          1869,
          1870,
          1871,
          1872,
          1873,
          1874,
          1875,
          1876,
          1877,
          1878,
          1879,
          1880,
          1881,
          1882,
          1883,
          1884,
          1885,
          1886,
          1887,
          1888,
          1889,
          1890,
          1891,
          1892,
          1893,
          1894,
          1895,
          1896,
          1897,
          1898,
          1899,
          1900,
          1901,
          1902,
          1903,
          1904,
          1905,
          1906,
          1907,
          1908,
          1909,
          1910,
          1911,
          1912,
          1913,
          1914,
          1915,
          1916,
          1917,
          1918,
          1919,
          1920,
          1921,
          1922,
          1923,
          1924,
          1925,
          1926,
          1927,
          1928,
          1929,
          1930,
          1931,
          1932,
          1933,
          1934,
          1935,
          1936,
          1937,
          1938,
          1939,
          1940,
          1941,
          1942,
          1943,
          1944,
          1945,
          1946,
          1947,
          1948,
          1949,
          1950,
          1951,
          1952,
          1953,
          1954,
          1955,
          1956,
          1957,
          1958,
          1959,
          1960,
          1961,
          1962,
          1963,
          1964,
          1965,
          1966,
          1967,
          1968,
          1969,
          1970,
          1971,
          1972,
          1973,
          1974,
          1975,
          1976,
          1977,
          1978,
          1979,
          1980,
          1981,
          1982,
          1983,
          1984,
          1985,
          1986,
          1987,
          1988,
          1989,
          1990,
          1991,
          1992,
          1993,
          1994,
          1995,
          1996,
          1997,
          1998,
          1999,
          2000
         ],
         "xaxis": "x2",
         "y": {
          "bdata": "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",
          "dtype": "f8"
         },
         "yaxis": "y2"
        },
        {
         "marker": {
          "color": "green"
         },
         "name": "Visited Positions",
         "nbinsx": 50,
         "opacity": 0.7,
         "type": "histogram",
         "x": {
          "bdata": "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",
          "dtype": "f8"
         },
         "xaxis": "x3",
         "yaxis": "y3"
        },
        {
         "line": {
          "color": "purple",
          "width": 2
         },
         "mode": "lines",
         "name": "Running Average",
         "type": "scatter",
         "x": [
          0,
          1,
          2,
          3,
          4,
          5,
          6,
          7,
          8,
          9,
          10,
          11,
          12,
          13,
          14,
          15,
          16,
          17,
          18,
          19,
          20,
          21,
          22,
          23,
          24,
          25,
          26,
          27,
          28,
          29,
          30,
          31,
          32,
          33,
          34,
          35,
          36,
          37,
          38,
          39,
          40,
          41,
          42,
          43,
          44,
          45,
          46,
          47,
          48,
          49,
          50,
          51,
          52,
          53,
          54,
          55,
          56,
          57,
          58,
          59,
          60,
          61,
          62,
          63,
          64,
          65,
          66,
          67,
          68,
          69,
          70,
          71,
          72,
          73,
          74,
          75,
          76,
          77,
          78,
          79,
          80,
          81,
          82,
          83,
          84,
          85,
          86,
          87,
          88,
          89,
          90,
          91,
          92,
          93,
          94,
          95,
          96,
          97,
          98,
          99,
          100,
          101,
          102,
          103,
          104,
          105,
          106,
          107,
          108,
          109,
          110,
          111,
          112,
          113,
          114,
          115,
          116,
          117,
          118,
          119,
          120,
          121,
          122,
          123,
          124,
          125,
          126,
          127,
          128,
          129,
          130,
          131,
          132,
          133,
          134,
          135,
          136,
          137,
          138,
          139,
          140,
          141,
          142,
          143,
          144,
          145,
          146,
          147,
          148,
          149,
          150,
          151,
          152,
          153,
          154,
          155,
          156,
          157,
          158,
          159,
          160,
          161,
          162,
          163,
          164,
          165,
          166,
          167,
          168,
          169,
          170,
          171,
          172,
          173,
          174,
          175,
          176,
          177,
          178,
          179,
          180,
          181,
          182,
          183,
          184,
          185,
          186,
          187,
          188,
          189,
          190,
          191,
          192,
          193,
          194,
          195,
          196,
          197,
          198,
          199,
          200,
          201,
          202,
          203,
          204,
          205,
          206,
          207,
          208,
          209,
          210,
          211,
          212,
          213,
          214,
          215,
          216,
          217,
          218,
          219,
          220,
          221,
          222,
          223,
          224,
          225,
          226,
          227,
          228,
          229,
          230,
          231,
          232,
          233,
          234,
          235,
          236,
          237,
          238,
          239,
          240,
          241,
          242,
          243,
          244,
          245,
          246,
          247,
          248,
          249,
          250,
          251,
          252,
          253,
          254,
          255,
          256,
          257,
          258,
          259,
          260,
          261,
          262,
          263,
          264,
          265,
          266,
          267,
          268,
          269,
          270,
          271,
          272,
          273,
          274,
          275,
          276,
          277,
          278,
          279,
          280,
          281,
          282,
          283,
          284,
          285,
          286,
          287,
          288,
          289,
          290,
          291,
          292,
          293,
          294,
          295,
          296,
          297,
          298,
          299,
          300,
          301,
          302,
          303,
          304,
          305,
          306,
          307,
          308,
          309,
          310,
          311,
          312,
          313,
          314,
          315,
          316,
          317,
          318,
          319,
          320,
          321,
          322,
          323,
          324,
          325,
          326,
          327,
          328,
          329,
          330,
          331,
          332,
          333,
          334,
          335,
          336,
          337,
          338,
          339,
          340,
          341,
          342,
          343,
          344,
          345,
          346,
          347,
          348,
          349,
          350,
          351,
          352,
          353,
          354,
          355,
          356,
          357,
          358,
          359,
          360,
          361,
          362,
          363,
          364,
          365,
          366,
          367,
          368,
          369,
          370,
          371,
          372,
          373,
          374,
          375,
          376,
          377,
          378,
          379,
          380,
          381,
          382,
          383,
          384,
          385,
          386,
          387,
          388,
          389,
          390,
          391,
          392,
          393,
          394,
          395,
          396,
          397,
          398,
          399,
          400,
          401,
          402,
          403,
          404,
          405,
          406,
          407,
          408,
          409,
          410,
          411,
          412,
          413,
          414,
          415,
          416,
          417,
          418,
          419,
          420,
          421,
          422,
          423,
          424,
          425,
          426,
          427,
          428,
          429,
          430,
          431,
          432,
          433,
          434,
          435,
          436,
          437,
          438,
          439,
          440,
          441,
          442,
          443,
          444,
          445,
          446,
          447,
          448,
          449,
          450,
          451,
          452,
          453,
          454,
          455,
          456,
          457,
          458,
          459,
          460,
          461,
          462,
          463,
          464,
          465,
          466,
          467,
          468,
          469,
          470,
          471,
          472,
          473,
          474,
          475,
          476,
          477,
          478,
          479,
          480,
          481,
          482,
          483,
          484,
          485,
          486,
          487,
          488,
          489,
          490,
          491,
          492,
          493,
          494,
          495,
          496,
          497,
          498,
          499,
          500,
          501,
          502,
          503,
          504,
          505,
          506,
          507,
          508,
          509,
          510,
          511,
          512,
          513,
          514,
          515,
          516,
          517,
          518,
          519,
          520,
          521,
          522,
          523,
          524,
          525,
          526,
          527,
          528,
          529,
          530,
          531,
          532,
          533,
          534,
          535,
          536,
          537,
          538,
          539,
          540,
          541,
          542,
          543,
          544,
          545,
          546,
          547,
          548,
          549,
          550,
          551,
          552,
          553,
          554,
          555,
          556,
          557,
          558,
          559,
          560,
          561,
          562,
          563,
          564,
          565,
          566,
          567,
          568,
          569,
          570,
          571,
          572,
          573,
          574,
          575,
          576,
          577,
          578,
          579,
          580,
          581,
          582,
          583,
          584,
          585,
          586,
          587,
          588,
          589,
          590,
          591,
          592,
          593,
          594,
          595,
          596,
          597,
          598,
          599,
          600,
          601,
          602,
          603,
          604,
          605,
          606,
          607,
          608,
          609,
          610,
          611,
          612,
          613,
          614,
          615,
          616,
          617,
          618,
          619,
          620,
          621,
          622,
          623,
          624,
          625,
          626,
          627,
          628,
          629,
          630,
          631,
          632,
          633,
          634,
          635,
          636,
          637,
          638,
          639,
          640,
          641,
          642,
          643,
          644,
          645,
          646,
          647,
          648,
          649,
          650,
          651,
          652,
          653,
          654,
          655,
          656,
          657,
          658,
          659,
          660,
          661,
          662,
          663,
          664,
          665,
          666,
          667,
          668,
          669,
          670,
          671,
          672,
          673,
          674,
          675,
          676,
          677,
          678,
          679,
          680,
          681,
          682,
          683,
          684,
          685,
          686,
          687,
          688,
          689,
          690,
          691,
          692,
          693,
          694,
          695,
          696,
          697,
          698,
          699,
          700,
          701,
          702,
          703,
          704,
          705,
          706,
          707,
          708,
          709,
          710,
          711,
          712,
          713,
          714,
          715,
          716,
          717,
          718,
          719,
          720,
          721,
          722,
          723,
          724,
          725,
          726,
          727,
          728,
          729,
          730,
          731,
          732,
          733,
          734,
          735,
          736,
          737,
          738,
          739,
          740,
          741,
          742,
          743,
          744,
          745,
          746,
          747,
          748,
          749,
          750,
          751,
          752,
          753,
          754,
          755,
          756,
          757,
          758,
          759,
          760,
          761,
          762,
          763,
          764,
          765,
          766,
          767,
          768,
          769,
          770,
          771,
          772,
          773,
          774,
          775,
          776,
          777,
          778,
          779,
          780,
          781,
          782,
          783,
          784,
          785,
          786,
          787,
          788,
          789,
          790,
          791,
          792,
          793,
          794,
          795,
          796,
          797,
          798,
          799,
          800,
          801,
          802,
          803,
          804,
          805,
          806,
          807,
          808,
          809,
          810,
          811,
          812,
          813,
          814,
          815,
          816,
          817,
          818,
          819,
          820,
          821,
          822,
          823,
          824,
          825,
          826,
          827,
          828,
          829,
          830,
          831,
          832,
          833,
          834,
          835,
          836,
          837,
          838,
          839,
          840,
          841,
          842,
          843,
          844,
          845,
          846,
          847,
          848,
          849,
          850,
          851,
          852,
          853,
          854,
          855,
          856,
          857,
          858,
          859,
          860,
          861,
          862,
          863,
          864,
          865,
          866,
          867,
          868,
          869,
          870,
          871,
          872,
          873,
          874,
          875,
          876,
          877,
          878,
          879,
          880,
          881,
          882,
          883,
          884,
          885,
          886,
          887,
          888,
          889,
          890,
          891,
          892,
          893,
          894,
          895,
          896,
          897,
          898,
          899,
          900,
          901,
          902,
          903,
          904,
          905,
          906,
          907,
          908,
          909,
          910,
          911,
          912,
          913,
          914,
          915,
          916,
          917,
          918,
          919,
          920,
          921,
          922,
          923,
          924,
          925,
          926,
          927,
          928,
          929,
          930,
          931,
          932,
          933,
          934,
          935,
          936,
          937,
          938,
          939,
          940,
          941,
          942,
          943,
          944,
          945,
          946,
          947,
          948,
          949,
          950,
          951,
          952,
          953,
          954,
          955,
          956,
          957,
          958,
          959,
          960,
          961,
          962,
          963,
          964,
          965,
          966,
          967,
          968,
          969,
          970,
          971,
          972,
          973,
          974,
          975,
          976,
          977,
          978,
          979,
          980,
          981,
          982,
          983,
          984,
          985,
          986,
          987,
          988,
          989,
          990,
          991,
          992,
          993,
          994,
          995,
          996,
          997,
          998,
          999,
          1000,
          1001,
          1002,
          1003,
          1004,
          1005,
          1006,
          1007,
          1008,
          1009,
          1010,
          1011,
          1012,
          1013,
          1014,
          1015,
          1016,
          1017,
          1018,
          1019,
          1020,
          1021,
          1022,
          1023,
          1024,
          1025,
          1026,
          1027,
          1028,
          1029,
          1030,
          1031,
          1032,
          1033,
          1034,
          1035,
          1036,
          1037,
          1038,
          1039,
          1040,
          1041,
          1042,
          1043,
          1044,
          1045,
          1046,
          1047,
          1048,
          1049,
          1050,
          1051,
          1052,
          1053,
          1054,
          1055,
          1056,
          1057,
          1058,
          1059,
          1060,
          1061,
          1062,
          1063,
          1064,
          1065,
          1066,
          1067,
          1068,
          1069,
          1070,
          1071,
          1072,
          1073,
          1074,
          1075,
          1076,
          1077,
          1078,
          1079,
          1080,
          1081,
          1082,
          1083,
          1084,
          1085,
          1086,
          1087,
          1088,
          1089,
          1090,
          1091,
          1092,
          1093,
          1094,
          1095,
          1096,
          1097,
          1098,
          1099,
          1100,
          1101,
          1102,
          1103,
          1104,
          1105,
          1106,
          1107,
          1108,
          1109,
          1110,
          1111,
          1112,
          1113,
          1114,
          1115,
          1116,
          1117,
          1118,
          1119,
          1120,
          1121,
          1122,
          1123,
          1124,
          1125,
          1126,
          1127,
          1128,
          1129,
          1130,
          1131,
          1132,
          1133,
          1134,
          1135,
          1136,
          1137,
          1138,
          1139,
          1140,
          1141,
          1142,
          1143,
          1144,
          1145,
          1146,
          1147,
          1148,
          1149,
          1150,
          1151,
          1152,
          1153,
          1154,
          1155,
          1156,
          1157,
          1158,
          1159,
          1160,
          1161,
          1162,
          1163,
          1164,
          1165,
          1166,
          1167,
          1168,
          1169,
          1170,
          1171,
          1172,
          1173,
          1174,
          1175,
          1176,
          1177,
          1178,
          1179,
          1180,
          1181,
          1182,
          1183,
          1184,
          1185,
          1186,
          1187,
          1188,
          1189,
          1190,
          1191,
          1192,
          1193,
          1194,
          1195,
          1196,
          1197,
          1198,
          1199,
          1200,
          1201,
          1202,
          1203,
          1204,
          1205,
          1206,
          1207,
          1208,
          1209,
          1210,
          1211,
          1212,
          1213,
          1214,
          1215,
          1216,
          1217,
          1218,
          1219,
          1220,
          1221,
          1222,
          1223,
          1224,
          1225,
          1226,
          1227,
          1228,
          1229,
          1230,
          1231,
          1232,
          1233,
          1234,
          1235,
          1236,
          1237,
          1238,
          1239,
          1240,
          1241,
          1242,
          1243,
          1244,
          1245,
          1246,
          1247,
          1248,
          1249,
          1250,
          1251,
          1252,
          1253,
          1254,
          1255,
          1256,
          1257,
          1258,
          1259,
          1260,
          1261,
          1262,
          1263,
          1264,
          1265,
          1266,
          1267,
          1268,
          1269,
          1270,
          1271,
          1272,
          1273,
          1274,
          1275,
          1276,
          1277,
          1278,
          1279,
          1280,
          1281,
          1282,
          1283,
          1284,
          1285,
          1286,
          1287,
          1288,
          1289,
          1290,
          1291,
          1292,
          1293,
          1294,
          1295,
          1296,
          1297,
          1298,
          1299,
          1300,
          1301,
          1302,
          1303,
          1304,
          1305,
          1306,
          1307,
          1308,
          1309,
          1310,
          1311,
          1312,
          1313,
          1314,
          1315,
          1316,
          1317,
          1318,
          1319,
          1320,
          1321,
          1322,
          1323,
          1324,
          1325,
          1326,
          1327,
          1328,
          1329,
          1330,
          1331,
          1332,
          1333,
          1334,
          1335,
          1336,
          1337,
          1338,
          1339,
          1340,
          1341,
          1342,
          1343,
          1344,
          1345,
          1346,
          1347,
          1348,
          1349,
          1350,
          1351,
          1352,
          1353,
          1354,
          1355,
          1356,
          1357,
          1358,
          1359,
          1360,
          1361,
          1362,
          1363,
          1364,
          1365,
          1366,
          1367,
          1368,
          1369,
          1370,
          1371,
          1372,
          1373,
          1374,
          1375,
          1376,
          1377,
          1378,
          1379,
          1380,
          1381,
          1382,
          1383,
          1384,
          1385,
          1386,
          1387,
          1388,
          1389,
          1390,
          1391,
          1392,
          1393,
          1394,
          1395,
          1396,
          1397,
          1398,
          1399,
          1400,
          1401,
          1402,
          1403,
          1404,
          1405,
          1406,
          1407,
          1408,
          1409,
          1410,
          1411,
          1412,
          1413,
          1414,
          1415,
          1416,
          1417,
          1418,
          1419,
          1420,
          1421,
          1422,
          1423,
          1424,
          1425,
          1426,
          1427,
          1428,
          1429,
          1430,
          1431,
          1432,
          1433,
          1434,
          1435,
          1436,
          1437,
          1438,
          1439,
          1440,
          1441,
          1442,
          1443,
          1444,
          1445,
          1446,
          1447,
          1448,
          1449,
          1450,
          1451,
          1452,
          1453,
          1454,
          1455,
          1456,
          1457,
          1458,
          1459,
          1460,
          1461,
          1462,
          1463,
          1464,
          1465,
          1466,
          1467,
          1468,
          1469,
          1470,
          1471,
          1472,
          1473,
          1474,
          1475,
          1476,
          1477,
          1478,
          1479,
          1480,
          1481,
          1482,
          1483,
          1484,
          1485,
          1486,
          1487,
          1488,
          1489,
          1490,
          1491,
          1492,
          1493,
          1494,
          1495,
          1496,
          1497,
          1498,
          1499,
          1500,
          1501,
          1502,
          1503,
          1504,
          1505,
          1506,
          1507,
          1508,
          1509,
          1510,
          1511,
          1512,
          1513,
          1514,
          1515,
          1516,
          1517,
          1518,
          1519,
          1520,
          1521,
          1522,
          1523,
          1524,
          1525,
          1526,
          1527,
          1528,
          1529,
          1530,
          1531,
          1532,
          1533,
          1534,
          1535,
          1536,
          1537,
          1538,
          1539,
          1540,
          1541,
          1542,
          1543,
          1544,
          1545,
          1546,
          1547,
          1548,
          1549,
          1550,
          1551,
          1552,
          1553,
          1554,
          1555,
          1556,
          1557,
          1558,
          1559,
          1560,
          1561,
          1562,
          1563,
          1564,
          1565,
          1566,
          1567,
          1568,
          1569,
          1570,
          1571,
          1572,
          1573,
          1574,
          1575,
          1576,
          1577,
          1578,
          1579,
          1580,
          1581,
          1582,
          1583,
          1584,
          1585,
          1586,
          1587,
          1588,
          1589,
          1590,
          1591,
          1592,
          1593,
          1594,
          1595,
          1596,
          1597,
          1598,
          1599,
          1600,
          1601,
          1602,
          1603,
          1604,
          1605,
          1606,
          1607,
          1608,
          1609,
          1610,
          1611,
          1612,
          1613,
          1614,
          1615,
          1616,
          1617,
          1618,
          1619,
          1620,
          1621,
          1622,
          1623,
          1624,
          1625,
          1626,
          1627,
          1628,
          1629,
          1630,
          1631,
          1632,
          1633,
          1634,
          1635,
          1636,
          1637,
          1638,
          1639,
          1640,
          1641,
          1642,
          1643,
          1644,
          1645,
          1646,
          1647,
          1648,
          1649,
          1650,
          1651,
          1652,
          1653,
          1654,
          1655,
          1656,
          1657,
          1658,
          1659,
          1660,
          1661,
          1662,
          1663,
          1664,
          1665,
          1666,
          1667,
          1668,
          1669,
          1670,
          1671,
          1672,
          1673,
          1674,
          1675,
          1676,
          1677,
          1678,
          1679,
          1680,
          1681,
          1682,
          1683,
          1684,
          1685,
          1686,
          1687,
          1688,
          1689,
          1690,
          1691,
          1692,
          1693,
          1694,
          1695,
          1696,
          1697,
          1698,
          1699,
          1700,
          1701,
          1702,
          1703,
          1704,
          1705,
          1706,
          1707,
          1708,
          1709,
          1710,
          1711,
          1712,
          1713,
          1714,
          1715,
          1716,
          1717,
          1718,
          1719,
          1720,
          1721,
          1722,
          1723,
          1724,
          1725,
          1726,
          1727,
          1728,
          1729,
          1730,
          1731,
          1732,
          1733,
          1734,
          1735,
          1736,
          1737,
          1738,
          1739,
          1740,
          1741,
          1742,
          1743,
          1744,
          1745,
          1746,
          1747,
          1748,
          1749,
          1750,
          1751,
          1752,
          1753,
          1754,
          1755,
          1756,
          1757,
          1758,
          1759,
          1760,
          1761,
          1762,
          1763,
          1764,
          1765,
          1766,
          1767,
          1768,
          1769,
          1770,
          1771,
          1772,
          1773,
          1774,
          1775,
          1776,
          1777,
          1778,
          1779,
          1780,
          1781,
          1782,
          1783,
          1784,
          1785,
          1786,
          1787,
          1788,
          1789,
          1790,
          1791,
          1792,
          1793,
          1794,
          1795,
          1796,
          1797,
          1798,
          1799,
          1800,
          1801,
          1802,
          1803,
          1804,
          1805,
          1806,
          1807,
          1808,
          1809,
          1810,
          1811,
          1812,
          1813,
          1814,
          1815,
          1816,
          1817,
          1818,
          1819,
          1820,
          1821,
          1822,
          1823,
          1824,
          1825,
          1826,
          1827,
          1828,
          1829,
          1830,
          1831,
          1832,
          1833,
          1834,
          1835,
          1836,
          1837,
          1838,
          1839,
          1840,
          1841,
          1842,
          1843,
          1844,
          1845,
          1846,
          1847,
          1848,
          1849,
          1850,
          1851,
          1852,
          1853,
          1854,
          1855,
          1856,
          1857,
          1858,
          1859,
          1860,
          1861,
          1862,
          1863,
          1864,
          1865,
          1866,
          1867,
          1868,
          1869,
          1870,
          1871,
          1872,
          1873,
          1874,
          1875,
          1876,
          1877,
          1878,
          1879,
          1880,
          1881,
          1882,
          1883,
          1884,
          1885,
          1886,
          1887,
          1888,
          1889,
          1890,
          1891,
          1892,
          1893,
          1894,
          1895,
          1896,
          1897,
          1898,
          1899,
          1900,
          1901,
          1902,
          1903,
          1904,
          1905,
          1906,
          1907,
          1908,
          1909,
          1910,
          1911,
          1912,
          1913,
          1914,
          1915,
          1916,
          1917,
          1918,
          1919,
          1920,
          1921,
          1922,
          1923,
          1924,
          1925,
          1926,
          1927,
          1928,
          1929,
          1930,
          1931,
          1932,
          1933,
          1934,
          1935,
          1936,
          1937,
          1938,
          1939,
          1940,
          1941,
          1942,
          1943,
          1944,
          1945,
          1946,
          1947,
          1948,
          1949,
          1950,
          1951,
          1952,
          1953,
          1954,
          1955,
          1956,
          1957,
          1958,
          1959,
          1960,
          1961,
          1962,
          1963,
          1964,
          1965,
          1966,
          1967,
          1968,
          1969,
          1970,
          1971,
          1972,
          1973,
          1974,
          1975,
          1976,
          1977,
          1978,
          1979,
          1980,
          1981,
          1982,
          1983,
          1984,
          1985,
          1986,
          1987,
          1988,
          1989,
          1990,
          1991,
          1992,
          1993,
          1994,
          1995,
          1996,
          1997,
          1998,
          1999,
          2000
         ],
         "xaxis": "x4",
         "y": {
          "bdata": "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",
          "dtype": "f8"
         },
         "yaxis": "y4"
        }
       ],
       "layout": {
        "annotations": [
         {
          "font": {
           "size": 16
          },
          "showarrow": false,
          "text": "The \"Hill\" We Want to Climb",
          "x": 0.225,
          "xanchor": "center",
          "xref": "paper",
          "y": 1,
          "yanchor": "bottom",
          "yref": "paper"
         },
         {
          "font": {
           "size": 16
          },
          "showarrow": false,
          "text": "MCMC Trace (Drunkard's Path)",
          "x": 0.775,
          "xanchor": "center",
          "xref": "paper",
          "y": 1,
          "yanchor": "bottom",
          "yref": "paper"
         },
         {
          "font": {
           "size": 16
          },
          "showarrow": false,
          "text": "Where We Visited Most",
          "x": 0.225,
          "xanchor": "center",
          "xref": "paper",
          "y": 0.375,
          "yanchor": "bottom",
          "yref": "paper"
         },
         {
          "font": {
           "size": 16
          },
          "showarrow": false,
          "text": "Convergence Check",
          "x": 0.775,
          "xanchor": "center",
          "xref": "paper",
          "y": 0.375,
          "yanchor": "bottom",
          "yref": "paper"
         }
        ],
        "height": 800,
        "template": {
         "data": {
          "bar": [
           {
            "error_x": {
             "color": "#2a3f5f"
            },
            "error_y": {
             "color": "#2a3f5f"
            },
            "marker": {
             "line": {
              "color": "#E5ECF6",
              "width": 0.5
             },
             "pattern": {
              "fillmode": "overlay",
              "size": 10,
              "solidity": 0.2
             }
            },
            "type": "bar"
           }
          ],
          "barpolar": [
           {
            "marker": {
             "line": {
              "color": "#E5ECF6",
              "width": 0.5
             },
             "pattern": {
              "fillmode": "overlay",
              "size": 10,
              "solidity": 0.2
             }
            },
            "type": "barpolar"
           }
          ],
          "carpet": [
           {
            "aaxis": {
             "endlinecolor": "#2a3f5f",
             "gridcolor": "white",
             "linecolor": "white",
             "minorgridcolor": "white",
             "startlinecolor": "#2a3f5f"
            },
            "baxis": {
             "endlinecolor": "#2a3f5f",
             "gridcolor": "white",
             "linecolor": "white",
             "minorgridcolor": "white",
             "startlinecolor": "#2a3f5f"
            },
            "type": "carpet"
           }
          ],
          "choropleth": [
           {
            "colorbar": {
             "outlinewidth": 0,
             "ticks": ""
            },
            "type": "choropleth"
           }
          ],
          "contour": [
           {
            "colorbar": {
             "outlinewidth": 0,
             "ticks": ""
            },
            "colorscale": [
             [
              0,
              "#0d0887"
             ],
             [
              0.1111111111111111,
              "#46039f"
             ],
             [
              0.2222222222222222,
              "#7201a8"
             ],
             [
              0.3333333333333333,
              "#9c179e"
             ],
             [
              0.4444444444444444,
              "#bd3786"
             ],
             [
              0.5555555555555556,
              "#d8576b"
             ],
             [
              0.6666666666666666,
              "#ed7953"
             ],
             [
              0.7777777777777778,
              "#fb9f3a"
             ],
             [
              0.8888888888888888,
              "#fdca26"
             ],
             [
              1,
              "#f0f921"
             ]
            ],
            "type": "contour"
           }
          ],
          "contourcarpet": [
           {
            "colorbar": {
             "outlinewidth": 0,
             "ticks": ""
            },
            "type": "contourcarpet"
           }
          ],
          "heatmap": [
           {
            "colorbar": {
             "outlinewidth": 0,
             "ticks": ""
            },
            "colorscale": [
             [
              0,
              "#0d0887"
             ],
             [
              0.1111111111111111,
              "#46039f"
             ],
             [
              0.2222222222222222,
              "#7201a8"
             ],
             [
              0.3333333333333333,
              "#9c179e"
             ],
             [
              0.4444444444444444,
              "#bd3786"
             ],
             [
              0.5555555555555556,
              "#d8576b"
             ],
             [
              0.6666666666666666,
              "#ed7953"
             ],
             [
              0.7777777777777778,
              "#fb9f3a"
             ],
             [
              0.8888888888888888,
              "#fdca26"
             ],
             [
              1,
              "#f0f921"
             ]
            ],
            "type": "heatmap"
           }
          ],
          "histogram": [
           {
            "marker": {
             "pattern": {
              "fillmode": "overlay",
              "size": 10,
              "solidity": 0.2
             }
            },
            "type": "histogram"
           }
          ],
          "histogram2d": [
           {
            "colorbar": {
             "outlinewidth": 0,
             "ticks": ""
            },
            "colorscale": [
             [
              0,
              "#0d0887"
             ],
             [
              0.1111111111111111,
              "#46039f"
             ],
             [
              0.2222222222222222,
              "#7201a8"
             ],
             [
              0.3333333333333333,
              "#9c179e"
             ],
             [
              0.4444444444444444,
              "#bd3786"
             ],
             [
              0.5555555555555556,
              "#d8576b"
             ],
             [
              0.6666666666666666,
              "#ed7953"
             ],
             [
              0.7777777777777778,
              "#fb9f3a"
             ],
             [
              0.8888888888888888,
              "#fdca26"
             ],
             [
              1,
              "#f0f921"
             ]
            ],
            "type": "histogram2d"
           }
          ],
          "histogram2dcontour": [
           {
            "colorbar": {
             "outlinewidth": 0,
             "ticks": ""
            },
            "colorscale": [
             [
              0,
              "#0d0887"
             ],
             [
              0.1111111111111111,
              "#46039f"
             ],
             [
              0.2222222222222222,
              "#7201a8"
             ],
             [
              0.3333333333333333,
              "#9c179e"
             ],
             [
              0.4444444444444444,
              "#bd3786"
             ],
             [
              0.5555555555555556,
              "#d8576b"
             ],
             [
              0.6666666666666666,
              "#ed7953"
             ],
             [
              0.7777777777777778,
              "#fb9f3a"
             ],
             [
              0.8888888888888888,
              "#fdca26"
             ],
             [
              1,
              "#f0f921"
             ]
            ],
            "type": "histogram2dcontour"
           }
          ],
          "mesh3d": [
           {
            "colorbar": {
             "outlinewidth": 0,
             "ticks": ""
            },
            "type": "mesh3d"
           }
          ],
          "parcoords": [
           {
            "line": {
             "colorbar": {
              "outlinewidth": 0,
              "ticks": ""
             }
            },
            "type": "parcoords"
           }
          ],
          "pie": [
           {
            "automargin": true,
            "type": "pie"
           }
          ],
          "scatter": [
           {
            "fillpattern": {
             "fillmode": "overlay",
             "size": 10,
             "solidity": 0.2
            },
            "type": "scatter"
           }
          ],
          "scatter3d": [
           {
            "line": {
             "colorbar": {
              "outlinewidth": 0,
              "ticks": ""
             }
            },
            "marker": {
             "colorbar": {
              "outlinewidth": 0,
              "ticks": ""
             }
            },
            "type": "scatter3d"
           }
          ],
          "scattercarpet": [
           {
            "marker": {
             "colorbar": {
              "outlinewidth": 0,
              "ticks": ""
             }
            },
            "type": "scattercarpet"
           }
          ],
          "scattergeo": [
           {
            "marker": {
             "colorbar": {
              "outlinewidth": 0,
              "ticks": ""
             }
            },
            "type": "scattergeo"
           }
          ],
          "scattergl": [
           {
            "marker": {
             "colorbar": {
              "outlinewidth": 0,
              "ticks": ""
             }
            },
            "type": "scattergl"
           }
          ],
          "scattermap": [
           {
            "marker": {
             "colorbar": {
              "outlinewidth": 0,
              "ticks": ""
             }
            },
            "type": "scattermap"
           }
          ],
          "scattermapbox": [
           {
            "marker": {
             "colorbar": {
              "outlinewidth": 0,
              "ticks": ""
             }
            },
            "type": "scattermapbox"
           }
          ],
          "scatterpolar": [
           {
            "marker": {
             "colorbar": {
              "outlinewidth": 0,
              "ticks": ""
             }
            },
            "type": "scatterpolar"
           }
          ],
          "scatterpolargl": [
           {
            "marker": {
             "colorbar": {
              "outlinewidth": 0,
              "ticks": ""
             }
            },
            "type": "scatterpolargl"
           }
          ],
          "scatterternary": [
           {
            "marker": {
             "colorbar": {
              "outlinewidth": 0,
              "ticks": ""
             }
            },
            "type": "scatterternary"
           }
          ],
          "surface": [
           {
            "colorbar": {
             "outlinewidth": 0,
             "ticks": ""
            },
            "colorscale": [
             [
              0,
              "#0d0887"
             ],
             [
              0.1111111111111111,
              "#46039f"
             ],
             [
              0.2222222222222222,
              "#7201a8"
             ],
             [
              0.3333333333333333,
              "#9c179e"
             ],
             [
              0.4444444444444444,
              "#bd3786"
             ],
             [
              0.5555555555555556,
              "#d8576b"
             ],
             [
              0.6666666666666666,
              "#ed7953"
             ],
             [
              0.7777777777777778,
              "#fb9f3a"
             ],
             [
              0.8888888888888888,
              "#fdca26"
             ],
             [
              1,
              "#f0f921"
             ]
            ],
            "type": "surface"
           }
          ],
          "table": [
           {
            "cells": {
             "fill": {
              "color": "#EBF0F8"
             },
             "line": {
              "color": "white"
             }
            },
            "header": {
             "fill": {
              "color": "#C8D4E3"
             },
             "line": {
              "color": "white"
             }
            },
            "type": "table"
           }
          ]
         },
         "layout": {
          "annotationdefaults": {
           "arrowcolor": "#2a3f5f",
           "arrowhead": 0,
           "arrowwidth": 1
          },
          "autotypenumbers": "strict",
          "coloraxis": {
           "colorbar": {
            "outlinewidth": 0,
            "ticks": ""
           }
          },
          "colorscale": {
           "diverging": [
            [
             0,
             "#8e0152"
            ],
            [
             0.1,
             "#c51b7d"
            ],
            [
             0.2,
             "#de77ae"
            ],
            [
             0.3,
             "#f1b6da"
            ],
            [
             0.4,
             "#fde0ef"
            ],
            [
             0.5,
             "#f7f7f7"
            ],
            [
             0.6,
             "#e6f5d0"
            ],
            [
             0.7,
             "#b8e186"
            ],
            [
             0.8,
             "#7fbc41"
            ],
            [
             0.9,
             "#4d9221"
            ],
            [
             1,
             "#276419"
            ]
           ],
           "sequential": [
            [
             0,
             "#0d0887"
            ],
            [
             0.1111111111111111,
             "#46039f"
            ],
            [
             0.2222222222222222,
             "#7201a8"
            ],
            [
             0.3333333333333333,
             "#9c179e"
            ],
            [
             0.4444444444444444,
             "#bd3786"
            ],
            [
             0.5555555555555556,
             "#d8576b"
            ],
            [
             0.6666666666666666,
             "#ed7953"
            ],
            [
             0.7777777777777778,
             "#fb9f3a"
            ],
            [
             0.8888888888888888,
             "#fdca26"
            ],
            [
             1,
             "#f0f921"
            ]
           ],
           "sequentialminus": [
            [
             0,
             "#0d0887"
            ],
            [
             0.1111111111111111,
             "#46039f"
            ],
            [
             0.2222222222222222,
             "#7201a8"
            ],
            [
             0.3333333333333333,
             "#9c179e"
            ],
            [
             0.4444444444444444,
             "#bd3786"
            ],
            [
             0.5555555555555556,
             "#d8576b"
            ],
            [
             0.6666666666666666,
             "#ed7953"
            ],
            [
             0.7777777777777778,
             "#fb9f3a"
            ],
            [
             0.8888888888888888,
             "#fdca26"
            ],
            [
             1,
             "#f0f921"
            ]
           ]
          },
          "colorway": [
           "#636efa",
           "#EF553B",
           "#00cc96",
           "#ab63fa",
           "#FFA15A",
           "#19d3f3",
           "#FF6692",
           "#B6E880",
           "#FF97FF",
           "#FECB52"
          ],
          "font": {
           "color": "#2a3f5f"
          },
          "geo": {
           "bgcolor": "white",
           "lakecolor": "white",
           "landcolor": "#E5ECF6",
           "showlakes": true,
           "showland": true,
           "subunitcolor": "white"
          },
          "hoverlabel": {
           "align": "left"
          },
          "hovermode": "closest",
          "mapbox": {
           "style": "light"
          },
          "paper_bgcolor": "white",
          "plot_bgcolor": "#E5ECF6",
          "polar": {
           "angularaxis": {
            "gridcolor": "white",
            "linecolor": "white",
            "ticks": ""
           },
           "bgcolor": "#E5ECF6",
           "radialaxis": {
            "gridcolor": "white",
            "linecolor": "white",
            "ticks": ""
           }
          },
          "scene": {
           "xaxis": {
            "backgroundcolor": "#E5ECF6",
            "gridcolor": "white",
            "gridwidth": 2,
            "linecolor": "white",
            "showbackground": true,
            "ticks": "",
            "zerolinecolor": "white"
           },
           "yaxis": {
            "backgroundcolor": "#E5ECF6",
            "gridcolor": "white",
            "gridwidth": 2,
            "linecolor": "white",
            "showbackground": true,
            "ticks": "",
            "zerolinecolor": "white"
           },
           "zaxis": {
            "backgroundcolor": "#E5ECF6",
            "gridcolor": "white",
            "gridwidth": 2,
            "linecolor": "white",
            "showbackground": true,
            "ticks": "",
            "zerolinecolor": "white"
           }
          },
          "shapedefaults": {
           "line": {
            "color": "#2a3f5f"
           }
          },
          "ternary": {
           "aaxis": {
            "gridcolor": "white",
            "linecolor": "white",
            "ticks": ""
           },
           "baxis": {
            "gridcolor": "white",
            "linecolor": "white",
            "ticks": ""
           },
           "bgcolor": "#E5ECF6",
           "caxis": {
            "gridcolor": "white",
            "linecolor": "white",
            "ticks": ""
           }
          },
          "title": {
           "x": 0.05
          },
          "xaxis": {
           "automargin": true,
           "gridcolor": "white",
           "linecolor": "white",
           "ticks": "",
           "title": {
            "standoff": 15
           },
           "zerolinecolor": "white",
           "zerolinewidth": 2
          },
          "yaxis": {
           "automargin": true,
           "gridcolor": "white",
           "linecolor": "white",
           "ticks": "",
           "title": {
            "standoff": 15
           },
           "zerolinecolor": "white",
           "zerolinewidth": 2
          }
         }
        },
        "title": {
         "text": "🍺 Drunkard's Walk MCMC Results"
        },
        "xaxis": {
         "anchor": "y",
         "domain": [
          0,
          0.45
         ]
        },
        "xaxis2": {
         "anchor": "y2",
         "domain": [
          0.55,
          1
         ]
        },
        "xaxis3": {
         "anchor": "y3",
         "domain": [
          0,
          0.45
         ]
        },
        "xaxis4": {
         "anchor": "y4",
         "domain": [
          0.55,
          1
         ]
        },
        "yaxis": {
         "anchor": "x",
         "domain": [
          0.625,
          1
         ]
        },
        "yaxis2": {
         "anchor": "x2",
         "domain": [
          0.625,
          1
         ]
        },
        "yaxis3": {
         "anchor": "x3",
         "domain": [
          0,
          0.375
         ]
        },
        "yaxis4": {
         "anchor": "x4",
         "domain": [
          0,
          0.375
         ]
        }
       }
      }
     },
     "metadata": {},
     "output_type": "display_data"
    },
    {
     "name": "stdout",
     "output_type": "stream",
     "text": [
      "🎉 The drunkard found the peaks!\n",
      "   Most visited area: 1.01 ± 1.81\n",
      "   True peaks are at x = -1 and x = 2\n"
     ]
    }
   ],
   "source": [
    "# Visualize the drunkard's walk\n",
    "x_range = np.linspace(-4, 5, 1000)\n",
    "y_range = target_function(x_range)\n",
    "\n",
    "# Create subplots\n",
    "fig = make_subplots(\n",
    "    rows=2, cols=2,\n",
    "    subplot_titles=['The \"Hill\" We Want to Climb', 'MCMC Trace (Drunkard\\'s Path)', \n",
    "                   'Where We Visited Most', 'Convergence Check'],\n",
    "    specs=[[{\"secondary_y\": False}, {\"secondary_y\": False}],\n",
    "           [{\"secondary_y\": False}, {\"secondary_y\": False}]]\n",
    ")\n",
    "\n",
    "# 1. The target function\n",
    "fig.add_trace(\n",
    "    go.Scatter(x=x_range, y=y_range, mode='lines', name='Target Function',\n",
    "               line=dict(color='blue', width=3)),\n",
    "    row=1, col=1\n",
    ")\n",
    "\n",
    "# 2. MCMC trace\n",
    "fig.add_trace(\n",
    "    go.Scatter(x=list(range(len(samples))), y=samples, mode='lines', \n",
    "               name='MCMC Path', line=dict(color='red', width=1)),\n",
    "    row=1, col=2\n",
    ")\n",
    "\n",
    "# 3. Histogram of visited positions\n",
    "fig.add_trace(\n",
    "    go.Histogram(x=samples, nbinsx=50, name='Visited Positions',\n",
    "                 marker_color='green', opacity=0.7),\n",
    "    row=2, col=1\n",
    ")\n",
    "\n",
    "# 4. Running average (convergence)\n",
    "running_avg = np.cumsum(samples) / np.arange(1, len(samples) + 1)\n",
    "fig.add_trace(\n",
    "    go.Scatter(x=list(range(len(running_avg))), y=running_avg, \n",
    "               mode='lines', name='Running Average',\n",
    "               line=dict(color='purple', width=2)),\n",
    "    row=2, col=2\n",
    ")\n",
    "\n",
    "fig.update_layout(height=800, title_text=\"🍺 Drunkard's Walk MCMC Results\")\n",
    "fig.show()\n",
    "\n",
    "print(\"🎉 The drunkard found the peaks!\")\n",
    "print(f\"   Most visited area: {np.mean(samples):.2f} ± {np.std(samples):.2f}\")\n",
    "print(f\"   True peaks are at x = -1 and x = 2\")\n"
   ]
  },
  {
   "cell_type": "markdown",
   "metadata": {},
   "source": [
    "## 🎯 Example 3: Bayesian A/B Testing - Which Website Design is Better?\n",
    "\n",
    "### The Problem\n",
    "You're running a website and want to test if a new design increases user engagement. Traditional A/B testing has limitations:\n",
    "- **Fixed sample sizes**: You have to wait for the full test to complete\n",
    "- **P-values**: Hard to interpret, don't give direct probability statements\n",
    "- **No prior knowledge**: Can't incorporate what you already know\n",
    "- **Multiple testing**: Problems when testing many variants\n",
    "\n",
    "### Why Bayesian A/B Testing is Superior\n",
    "Bayesian methods solve these problems by:\n",
    "- **Flexible stopping**: Stop early when confident, or continue if uncertain\n",
    "- **Direct probabilities**: \"There's a 95% chance B is better than A\"\n",
    "- **Prior knowledge**: Incorporate previous experiments and domain expertise\n",
    "- **Uncertainty quantification**: Credible intervals show what we don't know\n",
    "- **Sequential updates**: Update beliefs as new data arrives\n",
    "\n",
    "### Real-World Impact\n",
    "This isn't just academic - companies like Google, Netflix, and Amazon use Bayesian A/B testing for:\n",
    "- **Website Optimization**: Button colors, layouts, copy\n",
    "- **Product Features**: New functionality, user interfaces\n",
    "- **Marketing Campaigns**: Email subject lines, ad creatives\n",
    "- **Pricing Strategies**: Dynamic pricing, subscription models\n",
    "- **Recommendation Systems**: Algorithm improvements\n",
    "\n",
    "### The Business Value\n",
    "- **Faster decisions**: Stop losing money on bad variants\n",
    "- **Better insights**: Understand not just \"which is better\" but \"by how much\"\n",
    "- **Risk management**: Quantify uncertainty in business decisions\n",
    "- **Resource efficiency**: Focus testing on promising variants\n",
    "\n",
    "### Why This Example Matters\n",
    "We'll show how Bayesian A/B testing gives you:\n",
    "- **Real-time insights**: Update probabilities as data comes in\n",
    "- **Business-friendly results**: \"95% chance of 3% improvement\"\n",
    "- **Flexible experimentation**: Test multiple variants simultaneously\n",
    "- **Prior integration**: Use historical data to inform new tests\n"
   ]
  },
  {
   "cell_type": "code",
   "execution_count": 17,
   "metadata": {},
   "outputs": [
    {
     "name": "stdout",
     "output_type": "stream",
     "text": [
      "🌐 BAYESIAN A/B TESTING\n",
      "========================================\n",
      "Design A: 120/1000 conversions (12.0%)\n",
      "Design B: 150/1000 conversions (15.0%)\n",
      "\n",
      "Posterior conversion rates:\n",
      "Design A: 0.121 (95% credible interval: 0.101 - 0.142)\n",
      "Design B: 0.151 (95% credible interval: 0.129 - 0.173)\n",
      "\n",
      "🎯 Probability that Design B is better: 97.5%\n",
      "✅ Strong evidence for Design B!\n"
     ]
    }
   ],
   "source": [
    "# Fixed version of the Bayesian A/B test function\n",
    "def bayesian_ab_test(visitors_a, conversions_a, visitors_b, conversions_b):\n",
    "    \"\"\"\n",
    "    Bayesian A/B test comparing two website designs - FIXED VERSION\n",
    "    \"\"\"\n",
    "    print(\"🌐 BAYESIAN A/B TESTING\")\n",
    "    print(\"=\" * 40)\n",
    "    print(f\"Design A: {conversions_a}/{visitors_a} conversions ({conversions_a/visitors_a:.1%})\")\n",
    "    print(f\"Design B: {conversions_b}/{visitors_b} conversions ({conversions_b/visitors_b:.1%})\")\n",
    "    print()\n",
    "    \n",
    "    # Prior: Beta(1,1) - uniform prior (no strong beliefs)\n",
    "    alpha_prior = 1\n",
    "    beta_prior = 1\n",
    "    \n",
    "    # Posterior for Design A: Beta(1 + conversions_a, 1 + visitors_a - conversions_a)\n",
    "    alpha_a = alpha_prior + conversions_a\n",
    "    beta_a = beta_prior + visitors_a - conversions_a\n",
    "    \n",
    "    # Posterior for Design B: Beta(1 + conversions_b, 1 + visitors_b - conversions_b)\n",
    "    alpha_b = alpha_prior + conversions_b\n",
    "    beta_b = beta_prior + visitors_b - conversions_b\n",
    "    \n",
    "    # Calculate posterior means\n",
    "    mean_a = alpha_a / (alpha_a + beta_a)\n",
    "    mean_b = alpha_b / (alpha_b + beta_b)\n",
    "    \n",
    "    print(f\"Posterior conversion rates:\")\n",
    "    print(f\"Design A: {mean_a:.3f} (95% credible interval: {stats.beta.ppf(0.025, alpha_a, beta_a):.3f} - {stats.beta.ppf(0.975, alpha_a, beta_a):.3f})\")\n",
    "    print(f\"Design B: {mean_b:.3f} (95% credible interval: {stats.beta.ppf(0.025, alpha_b, beta_b):.3f} - {stats.beta.ppf(0.975, alpha_b, beta_b):.3f})\")\n",
    "    print()\n",
    "    \n",
    "    # Calculate probability that B is better than A\n",
    "    # P(B > A) = integral over all possible values\n",
    "    n_samples = 10000\n",
    "    samples_a = np.random.beta(alpha_a, beta_a, n_samples)\n",
    "    samples_b = np.random.beta(alpha_b, beta_b, n_samples)\n",
    "    \n",
    "    prob_b_better = np.mean(samples_b > samples_a)\n",
    "    \n",
    "    print(f\"🎯 Probability that Design B is better: {prob_b_better:.1%}\")\n",
    "    \n",
    "    if prob_b_better > 0.95:\n",
    "        print(\"✅ Strong evidence for Design B!\")\n",
    "    elif prob_b_better > 0.8:\n",
    "        print(\"📈 Moderate evidence for Design B\")\n",
    "    elif prob_b_better < 0.05:\n",
    "        print(\"✅ Strong evidence for Design A!\")\n",
    "    elif prob_b_better < 0.2:\n",
    "        print(\"📈 Moderate evidence for Design A\")\n",
    "    else:\n",
    "        print(\"❓ Inconclusive - need more data!\")\n",
    "    \n",
    "    return {\n",
    "        'alpha_a': alpha_a, 'beta_a': beta_a,\n",
    "        'alpha_b': alpha_b, 'beta_b': beta_b,\n",
    "        'prob_b_better': prob_b_better,\n",
    "        'samples_a': samples_a,\n",
    "        'samples_b': samples_b\n",
    "    }\n",
    "\n",
    "# Run the fixed version\n",
    "ab_results = bayesian_ab_test(visitors_a, conversions_a, visitors_b, conversions_b)\n"
   ]
  },
  {
   "cell_type": "code",
   "execution_count": 18,
   "metadata": {},
   "outputs": [
    {
     "data": {
      "application/vnd.plotly.v1+json": {
       "config": {
        "plotlyServerURL": "https://plot.ly"
       },
       "data": [
        {
         "line": {
          "color": "blue",
          "width": 3
         },
         "mode": "lines",
         "name": "Design A",
         "type": "scatter",
         "x": {
          "bdata": "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",
          "dtype": "f8"
         },
         "xaxis": "x",
         "y": {
          "bdata": "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",
          "dtype": "f8"
         },
         "yaxis": "y"
        },
        {
         "line": {
          "color": "red",
          "width": 3
         },
         "mode": "lines",
         "name": "Design B",
         "type": "scatter",
         "x": {
          "bdata": "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",
          "dtype": "f8"
         },
         "xaxis": "x",
         "y": {
          "bdata": "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",
          "dtype": "f8"
         },
         "yaxis": "y"
        },
        {
         "marker": {
          "color": "green"
         },
         "name": "B - A Difference",
         "nbinsx": 50,
         "opacity": 0.7,
         "type": "histogram",
         "x": {
          "bdata": "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",
          "dtype": "f8"
         },
         "xaxis": "x2",
         "yaxis": "y2"
        }
       ],
       "layout": {
        "annotations": [
         {
          "font": {
           "size": 16
          },
          "showarrow": false,
          "text": "Posterior Distributions",
          "x": 0.225,
          "xanchor": "center",
          "xref": "paper",
          "y": 1,
          "yanchor": "bottom",
          "yref": "paper"
         },
         {
          "font": {
           "size": 16
          },
          "showarrow": false,
          "text": "Probability Comparison",
          "x": 0.775,
          "xanchor": "center",
          "xref": "paper",
          "y": 1,
          "yanchor": "bottom",
          "yref": "paper"
         }
        ],
        "height": 500,
        "shapes": [
         {
          "line": {
           "color": "black",
           "dash": "dash"
          },
          "type": "line",
          "x0": 0,
          "x1": 0,
          "xref": "x2",
          "y0": 0,
          "y1": 1,
          "yref": "y2 domain"
         }
        ],
        "template": {
         "data": {
          "bar": [
           {
            "error_x": {
             "color": "#2a3f5f"
            },
            "error_y": {
             "color": "#2a3f5f"
            },
            "marker": {
             "line": {
              "color": "#E5ECF6",
              "width": 0.5
             },
             "pattern": {
              "fillmode": "overlay",
              "size": 10,
              "solidity": 0.2
             }
            },
            "type": "bar"
           }
          ],
          "barpolar": [
           {
            "marker": {
             "line": {
              "color": "#E5ECF6",
              "width": 0.5
             },
             "pattern": {
              "fillmode": "overlay",
              "size": 10,
              "solidity": 0.2
             }
            },
            "type": "barpolar"
           }
          ],
          "carpet": [
           {
            "aaxis": {
             "endlinecolor": "#2a3f5f",
             "gridcolor": "white",
             "linecolor": "white",
             "minorgridcolor": "white",
             "startlinecolor": "#2a3f5f"
            },
            "baxis": {
             "endlinecolor": "#2a3f5f",
             "gridcolor": "white",
             "linecolor": "white",
             "minorgridcolor": "white",
             "startlinecolor": "#2a3f5f"
            },
            "type": "carpet"
           }
          ],
          "choropleth": [
           {
            "colorbar": {
             "outlinewidth": 0,
             "ticks": ""
            },
            "type": "choropleth"
           }
          ],
          "contour": [
           {
            "colorbar": {
             "outlinewidth": 0,
             "ticks": ""
            },
            "colorscale": [
             [
              0,
              "#0d0887"
             ],
             [
              0.1111111111111111,
              "#46039f"
             ],
             [
              0.2222222222222222,
              "#7201a8"
             ],
             [
              0.3333333333333333,
              "#9c179e"
             ],
             [
              0.4444444444444444,
              "#bd3786"
             ],
             [
              0.5555555555555556,
              "#d8576b"
             ],
             [
              0.6666666666666666,
              "#ed7953"
             ],
             [
              0.7777777777777778,
              "#fb9f3a"
             ],
             [
              0.8888888888888888,
              "#fdca26"
             ],
             [
              1,
              "#f0f921"
             ]
            ],
            "type": "contour"
           }
          ],
          "contourcarpet": [
           {
            "colorbar": {
             "outlinewidth": 0,
             "ticks": ""
            },
            "type": "contourcarpet"
           }
          ],
          "heatmap": [
           {
            "colorbar": {
             "outlinewidth": 0,
             "ticks": ""
            },
            "colorscale": [
             [
              0,
              "#0d0887"
             ],
             [
              0.1111111111111111,
              "#46039f"
             ],
             [
              0.2222222222222222,
              "#7201a8"
             ],
             [
              0.3333333333333333,
              "#9c179e"
             ],
             [
              0.4444444444444444,
              "#bd3786"
             ],
             [
              0.5555555555555556,
              "#d8576b"
             ],
             [
              0.6666666666666666,
              "#ed7953"
             ],
             [
              0.7777777777777778,
              "#fb9f3a"
             ],
             [
              0.8888888888888888,
              "#fdca26"
             ],
             [
              1,
              "#f0f921"
             ]
            ],
            "type": "heatmap"
           }
          ],
          "histogram": [
           {
            "marker": {
             "pattern": {
              "fillmode": "overlay",
              "size": 10,
              "solidity": 0.2
             }
            },
            "type": "histogram"
           }
          ],
          "histogram2d": [
           {
            "colorbar": {
             "outlinewidth": 0,
             "ticks": ""
            },
            "colorscale": [
             [
              0,
              "#0d0887"
             ],
             [
              0.1111111111111111,
              "#46039f"
             ],
             [
              0.2222222222222222,
              "#7201a8"
             ],
             [
              0.3333333333333333,
              "#9c179e"
             ],
             [
              0.4444444444444444,
              "#bd3786"
             ],
             [
              0.5555555555555556,
              "#d8576b"
             ],
             [
              0.6666666666666666,
              "#ed7953"
             ],
             [
              0.7777777777777778,
              "#fb9f3a"
             ],
             [
              0.8888888888888888,
              "#fdca26"
             ],
             [
              1,
              "#f0f921"
             ]
            ],
            "type": "histogram2d"
           }
          ],
          "histogram2dcontour": [
           {
            "colorbar": {
             "outlinewidth": 0,
             "ticks": ""
            },
            "colorscale": [
             [
              0,
              "#0d0887"
             ],
             [
              0.1111111111111111,
              "#46039f"
             ],
             [
              0.2222222222222222,
              "#7201a8"
             ],
             [
              0.3333333333333333,
              "#9c179e"
             ],
             [
              0.4444444444444444,
              "#bd3786"
             ],
             [
              0.5555555555555556,
              "#d8576b"
             ],
             [
              0.6666666666666666,
              "#ed7953"
             ],
             [
              0.7777777777777778,
              "#fb9f3a"
             ],
             [
              0.8888888888888888,
              "#fdca26"
             ],
             [
              1,
              "#f0f921"
             ]
            ],
            "type": "histogram2dcontour"
           }
          ],
          "mesh3d": [
           {
            "colorbar": {
             "outlinewidth": 0,
             "ticks": ""
            },
            "type": "mesh3d"
           }
          ],
          "parcoords": [
           {
            "line": {
             "colorbar": {
              "outlinewidth": 0,
              "ticks": ""
             }
            },
            "type": "parcoords"
           }
          ],
          "pie": [
           {
            "automargin": true,
            "type": "pie"
           }
          ],
          "scatter": [
           {
            "fillpattern": {
             "fillmode": "overlay",
             "size": 10,
             "solidity": 0.2
            },
            "type": "scatter"
           }
          ],
          "scatter3d": [
           {
            "line": {
             "colorbar": {
              "outlinewidth": 0,
              "ticks": ""
             }
            },
            "marker": {
             "colorbar": {
              "outlinewidth": 0,
              "ticks": ""
             }
            },
            "type": "scatter3d"
           }
          ],
          "scattercarpet": [
           {
            "marker": {
             "colorbar": {
              "outlinewidth": 0,
              "ticks": ""
             }
            },
            "type": "scattercarpet"
           }
          ],
          "scattergeo": [
           {
            "marker": {
             "colorbar": {
              "outlinewidth": 0,
              "ticks": ""
             }
            },
            "type": "scattergeo"
           }
          ],
          "scattergl": [
           {
            "marker": {
             "colorbar": {
              "outlinewidth": 0,
              "ticks": ""
             }
            },
            "type": "scattergl"
           }
          ],
          "scattermap": [
           {
            "marker": {
             "colorbar": {
              "outlinewidth": 0,
              "ticks": ""
             }
            },
            "type": "scattermap"
           }
          ],
          "scattermapbox": [
           {
            "marker": {
             "colorbar": {
              "outlinewidth": 0,
              "ticks": ""
             }
            },
            "type": "scattermapbox"
           }
          ],
          "scatterpolar": [
           {
            "marker": {
             "colorbar": {
              "outlinewidth": 0,
              "ticks": ""
             }
            },
            "type": "scatterpolar"
           }
          ],
          "scatterpolargl": [
           {
            "marker": {
             "colorbar": {
              "outlinewidth": 0,
              "ticks": ""
             }
            },
            "type": "scatterpolargl"
           }
          ],
          "scatterternary": [
           {
            "marker": {
             "colorbar": {
              "outlinewidth": 0,
              "ticks": ""
             }
            },
            "type": "scatterternary"
           }
          ],
          "surface": [
           {
            "colorbar": {
             "outlinewidth": 0,
             "ticks": ""
            },
            "colorscale": [
             [
              0,
              "#0d0887"
             ],
             [
              0.1111111111111111,
              "#46039f"
             ],
             [
              0.2222222222222222,
              "#7201a8"
             ],
             [
              0.3333333333333333,
              "#9c179e"
             ],
             [
              0.4444444444444444,
              "#bd3786"
             ],
             [
              0.5555555555555556,
              "#d8576b"
             ],
             [
              0.6666666666666666,
              "#ed7953"
             ],
             [
              0.7777777777777778,
              "#fb9f3a"
             ],
             [
              0.8888888888888888,
              "#fdca26"
             ],
             [
              1,
              "#f0f921"
             ]
            ],
            "type": "surface"
           }
          ],
          "table": [
           {
            "cells": {
             "fill": {
              "color": "#EBF0F8"
             },
             "line": {
              "color": "white"
             }
            },
            "header": {
             "fill": {
              "color": "#C8D4E3"
             },
             "line": {
              "color": "white"
             }
            },
            "type": "table"
           }
          ]
         },
         "layout": {
          "annotationdefaults": {
           "arrowcolor": "#2a3f5f",
           "arrowhead": 0,
           "arrowwidth": 1
          },
          "autotypenumbers": "strict",
          "coloraxis": {
           "colorbar": {
            "outlinewidth": 0,
            "ticks": ""
           }
          },
          "colorscale": {
           "diverging": [
            [
             0,
             "#8e0152"
            ],
            [
             0.1,
             "#c51b7d"
            ],
            [
             0.2,
             "#de77ae"
            ],
            [
             0.3,
             "#f1b6da"
            ],
            [
             0.4,
             "#fde0ef"
            ],
            [
             0.5,
             "#f7f7f7"
            ],
            [
             0.6,
             "#e6f5d0"
            ],
            [
             0.7,
             "#b8e186"
            ],
            [
             0.8,
             "#7fbc41"
            ],
            [
             0.9,
             "#4d9221"
            ],
            [
             1,
             "#276419"
            ]
           ],
           "sequential": [
            [
             0,
             "#0d0887"
            ],
            [
             0.1111111111111111,
             "#46039f"
            ],
            [
             0.2222222222222222,
             "#7201a8"
            ],
            [
             0.3333333333333333,
             "#9c179e"
            ],
            [
             0.4444444444444444,
             "#bd3786"
            ],
            [
             0.5555555555555556,
             "#d8576b"
            ],
            [
             0.6666666666666666,
             "#ed7953"
            ],
            [
             0.7777777777777778,
             "#fb9f3a"
            ],
            [
             0.8888888888888888,
             "#fdca26"
            ],
            [
             1,
             "#f0f921"
            ]
           ],
           "sequentialminus": [
            [
             0,
             "#0d0887"
            ],
            [
             0.1111111111111111,
             "#46039f"
            ],
            [
             0.2222222222222222,
             "#7201a8"
            ],
            [
             0.3333333333333333,
             "#9c179e"
            ],
            [
             0.4444444444444444,
             "#bd3786"
            ],
            [
             0.5555555555555556,
             "#d8576b"
            ],
            [
             0.6666666666666666,
             "#ed7953"
            ],
            [
             0.7777777777777778,
             "#fb9f3a"
            ],
            [
             0.8888888888888888,
             "#fdca26"
            ],
            [
             1,
             "#f0f921"
            ]
           ]
          },
          "colorway": [
           "#636efa",
           "#EF553B",
           "#00cc96",
           "#ab63fa",
           "#FFA15A",
           "#19d3f3",
           "#FF6692",
           "#B6E880",
           "#FF97FF",
           "#FECB52"
          ],
          "font": {
           "color": "#2a3f5f"
          },
          "geo": {
           "bgcolor": "white",
           "lakecolor": "white",
           "landcolor": "#E5ECF6",
           "showlakes": true,
           "showland": true,
           "subunitcolor": "white"
          },
          "hoverlabel": {
           "align": "left"
          },
          "hovermode": "closest",
          "mapbox": {
           "style": "light"
          },
          "paper_bgcolor": "white",
          "plot_bgcolor": "#E5ECF6",
          "polar": {
           "angularaxis": {
            "gridcolor": "white",
            "linecolor": "white",
            "ticks": ""
           },
           "bgcolor": "#E5ECF6",
           "radialaxis": {
            "gridcolor": "white",
            "linecolor": "white",
            "ticks": ""
           }
          },
          "scene": {
           "xaxis": {
            "backgroundcolor": "#E5ECF6",
            "gridcolor": "white",
            "gridwidth": 2,
            "linecolor": "white",
            "showbackground": true,
            "ticks": "",
            "zerolinecolor": "white"
           },
           "yaxis": {
            "backgroundcolor": "#E5ECF6",
            "gridcolor": "white",
            "gridwidth": 2,
            "linecolor": "white",
            "showbackground": true,
            "ticks": "",
            "zerolinecolor": "white"
           },
           "zaxis": {
            "backgroundcolor": "#E5ECF6",
            "gridcolor": "white",
            "gridwidth": 2,
            "linecolor": "white",
            "showbackground": true,
            "ticks": "",
            "zerolinecolor": "white"
           }
          },
          "shapedefaults": {
           "line": {
            "color": "#2a3f5f"
           }
          },
          "ternary": {
           "aaxis": {
            "gridcolor": "white",
            "linecolor": "white",
            "ticks": ""
           },
           "baxis": {
            "gridcolor": "white",
            "linecolor": "white",
            "ticks": ""
           },
           "bgcolor": "#E5ECF6",
           "caxis": {
            "gridcolor": "white",
            "linecolor": "white",
            "ticks": ""
           }
          },
          "title": {
           "x": 0.05
          },
          "xaxis": {
           "automargin": true,
           "gridcolor": "white",
           "linecolor": "white",
           "ticks": "",
           "title": {
            "standoff": 15
           },
           "zerolinecolor": "white",
           "zerolinewidth": 2
          },
          "yaxis": {
           "automargin": true,
           "gridcolor": "white",
           "linecolor": "white",
           "ticks": "",
           "title": {
            "standoff": 15
           },
           "zerolinecolor": "white",
           "zerolinewidth": 2
          }
         }
        },
        "title": {
         "text": "🌐 Bayesian A/B Test Results"
        },
        "xaxis": {
         "anchor": "y",
         "domain": [
          0,
          0.45
         ],
         "title": {
          "text": "Conversion Rate"
         }
        },
        "xaxis2": {
         "anchor": "y2",
         "domain": [
          0.55,
          1
         ],
         "title": {
          "text": "Difference (B - A)"
         }
        },
        "yaxis": {
         "anchor": "x",
         "domain": [
          0,
          1
         ],
         "title": {
          "text": "Probability Density"
         }
        },
        "yaxis2": {
         "anchor": "x2",
         "domain": [
          0,
          1
         ]
        }
       }
      },
      "image/png": "[encoded data removed]"
     },
     "metadata": {},
     "output_type": "display_data"
    },
    {
     "name": "stdout",
     "output_type": "stream",
     "text": [
      "💡 Key Insights:\n",
      "   • We can quantify uncertainty with credible intervals\n",
      "   • We get direct probability statements (not p-values!)\n",
      "   • We can stop the test early if we're confident\n",
      "   • We can incorporate prior knowledge easily\n"
     ]
    }
   ],
   "source": [
    "# Visualize the A/B test results\n",
    "fig = make_subplots(\n",
    "    rows=1, cols=2,\n",
    "    subplot_titles=['Posterior Distributions', 'Probability Comparison'],\n",
    "    specs=[[{\"secondary_y\": False}, {\"secondary_y\": False}]]\n",
    ")\n",
    "\n",
    "# 1. Posterior distributions\n",
    "x_range = np.linspace(0, 0.25, 1000)\n",
    "pdf_a = stats.beta.pdf(x_range, ab_results['alpha_a'], ab_results['beta_a'])\n",
    "pdf_b = stats.beta.pdf(x_range, ab_results['alpha_b'], ab_results['beta_b'])\n",
    "\n",
    "fig.add_trace(\n",
    "    go.Scatter(x=x_range, y=pdf_a, mode='lines', name='Design A',\n",
    "               line=dict(color='blue', width=3)),\n",
    "    row=1, col=1\n",
    ")\n",
    "\n",
    "fig.add_trace(\n",
    "    go.Scatter(x=x_range, y=pdf_b, mode='lines', name='Design B',\n",
    "               line=dict(color='red', width=3)),\n",
    "    row=1, col=1\n",
    ")\n",
    "\n",
    "# 2. Difference distribution\n",
    "diff_samples = ab_results['samples_b'] - ab_results['samples_a']\n",
    "fig.add_trace(\n",
    "    go.Histogram(x=diff_samples, nbinsx=50, name='B - A Difference',\n",
    "                 marker_color='green', opacity=0.7),\n",
    "    row=1, col=2\n",
    ")\n",
    "\n",
    "# Add vertical line at 0\n",
    "fig.add_vline(x=0, line_dash=\"dash\", line_color=\"black\", row=1, col=2)\n",
    "\n",
    "fig.update_layout(\n",
    "    height=500,\n",
    "    title_text=\"🌐 Bayesian A/B Test Results\",\n",
    "    xaxis_title=\"Conversion Rate\",\n",
    "    yaxis_title=\"Probability Density\"\n",
    ")\n",
    "\n",
    "fig.update_xaxes(title_text=\"Conversion Rate\", row=1, col=1)\n",
    "fig.update_xaxes(title_text=\"Difference (B - A)\", row=1, col=2)\n",
    "\n",
    "fig.show()\n",
    "\n",
    "print(\"💡 Key Insights:\")\n",
    "print(f\"   • We can quantify uncertainty with credible intervals\")\n",
    "print(f\"   • We get direct probability statements (not p-values!)\")\n",
    "print(f\"   • We can stop the test early if we're confident\")\n",
    "print(f\"   • We can incorporate prior knowledge easily\")\n"
   ]
  },
  {
   "cell_type": "markdown",
   "metadata": {},
   "source": [
    "## 🎉 Summary: What We've Learned\n",
    "\n",
    "These examples demonstrate the power and practicality of Bayesian thinking across different domains:\n",
    "\n",
    "### 🎲 **Monty Hall Problem**\n",
    "- **Core Concept**: How new information should update our beliefs\n",
    "- **Key Insight**: Information changes everything - even when it seems counterintuitive\n",
    "- **Real Impact**: Medical diagnosis, legal evidence, quality control\n",
    "- **Bayesian Advantage**: Quantifies exactly how much our beliefs should change\n",
    "\n",
    "### 🍺 **Drunkard's Walk MCMC**\n",
    "- **Core Concept**: How to explore complex probability landscapes\n",
    "- **Key Insight**: Random walks naturally find high-probability regions\n",
    "- **Real Impact**: Machine learning, finance, biology, physics\n",
    "- **Bayesian Advantage**: Makes complex Bayesian inference computationally feasible\n",
    "\n",
    "### 🌐 **Bayesian A/B Testing**\n",
    "- **Core Concept**: How to make decisions with uncertainty\n",
    "- **Key Insight**: Direct probability statements are more useful than p-values\n",
    "- **Real Impact**: Website optimization, product development, marketing\n",
    "- **Bayesian Advantage**: Flexible, interpretable, incorporates prior knowledge\n",
    "\n",
    "### 🚀 **Key Bayesian Advantages**\n",
    "- **Intuitive Results**: \"There's a 95% chance B is better\" vs \"p < 0.05\"\n",
    "- **Flexible Framework**: Easy to incorporate prior knowledge and domain expertise\n",
    "- **Uncertainty Quantification**: Credible intervals show what we don't know\n",
    "- **Sequential Learning**: Update beliefs as new data arrives\n",
    "- **Business Friendly**: Results that stakeholders can understand and act on\n",
    "\n",
    "### 🎯 **Why This Matters**\n",
    "Bayesian methods aren't just academic exercises - they're practical tools for:\n",
    "- **Better Decision Making**: Quantify uncertainty in business and scientific decisions\n",
    "- **Faster Innovation**: Stop bad ideas early, accelerate good ones\n",
    "- **Risk Management**: Understand and communicate uncertainty\n",
    "- **Resource Optimization**: Focus effort where it matters most\n",
    "\n",
    "### 🔬 **Next Steps for Exploration**\n",
    "- **MCMC Tuning**: Try different step sizes and proposal distributions\n",
    "- **Prior Sensitivity**: Experiment with different priors in the A/B test\n",
    "- **Problem Extensions**: Add more doors to Monty Hall, test multiple variants\n",
    "- **Advanced Topics**: Hierarchical models, model comparison, causal inference\n",
    "- **Real Data**: Apply these methods to your own datasets and problems\n",
    "\n",
    "### 💡 **The Big Picture**\n",
    "Bayesian thinking is fundamentally about **learning from data while acknowledging uncertainty**. It's not just a statistical method - it's a framework for rational decision-making in an uncertain world. Whether you're optimizing a website, diagnosing a patient, or exploring the universe, Bayesian methods help you make better decisions with the information you have.\n"
   ]
  }
 ],
 "metadata": {
  "kernelspec": {
   "display_name": "Python 3 (ipykernel)",
   "language": "python",
   "name": "python3"
  },
  "language_info": {
   "codemirror_mode": {
    "name": "ipython",
    "version": 3
   },
   "file_extension": ".py",
   "mimetype": "text/x-python",
   "name": "python",
   "nbconvert_exporter": "python",
   "pygments_lexer": "ipython3",
   "version": "3.9.6"
  }
 },
 "nbformat": 4,
 "nbformat_minor": 4
}
